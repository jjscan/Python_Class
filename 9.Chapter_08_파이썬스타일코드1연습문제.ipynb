{
 "cells": [
  {
   "cell_type": "code",
   "execution_count": 1,
   "metadata": {},
   "outputs": [
    {
     "name": "stdout",
     "output_type": "stream",
     "text": [
      "[(0, 'apple'), (1, 'banana'), (2, 'grape')]\n"
     ]
    }
   ],
   "source": [
    "# 1\n",
    "mylist = ['apple', 'banana', 'grape']\n",
    "result = list(enumerate(mylist))\n",
    "print(result)"
   ]
  },
  {
   "cell_type": "code",
   "execution_count": 2,
   "metadata": {},
   "outputs": [
    {
     "name": "stdout",
     "output_type": "stream",
     "text": [
      "{'is': 7, 'cat': 6, 'cute': 8, 'my': 5, 'has': 2, 'eyes,': 4, 'blue': 3}\n"
     ]
    }
   ],
   "source": [
    "# 2\n",
    "cat_song = \"my cat has blue eyes, my cat is cute\"\n",
    "print({i : j for j, i in enumerate(cat_song.split())})"
   ]
  },
  {
   "cell_type": "code",
   "execution_count": 3,
   "metadata": {},
   "outputs": [
    {
     "name": "stdout",
     "output_type": "stream",
     "text": [
      "orange&pink&brown&black&white\n"
     ]
    }
   ],
   "source": [
    "# 3\n",
    "colors = ['orange', 'pink', 'brown', 'black', 'white']\n",
    "result = '&'.join(colors)\n",
    "print(result)"
   ]
  },
  {
   "cell_type": "code",
   "execution_count": 5,
   "metadata": {},
   "outputs": [
    {
     "name": "stdout",
     "output_type": "stream",
     "text": [
      "{'students': 0, 'superuser': 1, 'employee': 3, 'professor': 2}\n"
     ]
    }
   ],
   "source": [
    "# 4\n",
    "user_dict = {}\n",
    "user_list = [\"students\", \"superuser\", \"professor\", \"employee\"]\n",
    "for value_1, value_2 in enumerate(user_list):\n",
    "    user_dict[value_2] = value_1\n",
    "print(user_dict)"
   ]
  },
  {
   "cell_type": "code",
   "execution_count": 7,
   "metadata": {},
   "outputs": [
    {
     "name": "stdout",
     "output_type": "stream",
     "text": [
      "[0, 2, 4, 6, 8]\n",
      "[0, 1, 2, 3, 4, 5, 6, 7, 8, 9]\n",
      "['zero', 'one', 'two', 'three']\n",
      "cs50\n"
     ]
    }
   ],
   "source": [
    "# 5\n",
    "result = [i for i in range(10) if i % 2 == 0]\n",
    "print(result)\n",
    "\n",
    "items = 'zero one two three'.split(\"two\")\n",
    "result = [i for i in range(10)]\n",
    "print(result)\n",
    "\n",
    "items = 'zero one two three'.split()\n",
    "print(items)\n",
    "\n",
    "example = 'cs50.gachon.edu'\n",
    "subdomain, domain, tld = example.split('.')\n",
    "print(subdomain)"
   ]
  },
  {
   "cell_type": "code",
   "execution_count": 8,
   "metadata": {},
   "outputs": [
    {
     "name": "stdout",
     "output_type": "stream",
     "text": [
      "['Cat', 'Panda', 'Owl']\n"
     ]
    }
   ],
   "source": [
    "# 6\n",
    "animal = ['Fox', 'Dog', 'Cat', 'Monkey', 'Horse', 'Panda', 'Owl']\n",
    "print([ani for ani in animal if 'o' not in ani])"
   ]
  },
  {
   "cell_type": "code",
   "execution_count": 28,
   "metadata": {},
   "outputs": [
    {
     "name": "stdout",
     "output_type": "stream",
     "text": [
      "ong\n",
      "DongUniversity\n"
     ]
    }
   ],
   "source": [
    "# 7\n",
    "name = \"Hanbit University\"\n",
    "student = [\"Hong\", \"Gil\", \"Dong\"]\n",
    "split_name = name.split()\n",
    "join_student = ''.join(student)\n",
    "print(join_student[-3 : ])\n",
    "print(join_student[-4 : ] + split_name[1])"
   ]
  },
  {
   "cell_type": "code",
   "execution_count": 11,
   "metadata": {},
   "outputs": [
    {
     "name": "stdout",
     "output_type": "stream",
     "text": [
      "20\n"
     ]
    }
   ],
   "source": [
    "# 8\n",
    "kor_score = [49, 79, 20, 100, 80]\n",
    "math_score = [43, 59, 85, 30, 90]\n",
    "eng_score = [49, 79, 48, 60, 100]\n",
    "midterm_score = [kor_score, math_score, eng_score]\n",
    "print(midterm_score[0][2])"
   ]
  },
  {
   "cell_type": "code",
   "execution_count": 30,
   "metadata": {},
   "outputs": [
    {
     "name": "stdout",
     "output_type": "stream",
     "text": [
      "[[12, 3], [15, 3]]\n",
      "<zip object at 0x10618e0c8>\n"
     ]
    }
   ],
   "source": [
    "# 9\n",
    "a = [1, 2, 3]\n",
    "b = [4, 5, ]\n",
    "c = [7, 8, 9]\n",
    "print([[sum(k), len(k)] for k in zip(a, b, c)])"
   ]
  },
  {
   "cell_type": "code",
   "execution_count": 31,
   "metadata": {},
   "outputs": [
    {
     "name": "stdout",
     "output_type": "stream",
     "text": [
      "yellow\n"
     ]
    }
   ],
   "source": [
    "# 10\n",
    "week = ['mon', 'tue', 'wed', 'thu', 'fri', 'sat', 'sun']\n",
    "rainbow = ['red', 'orange', 'yellow', 'green', 'blue', 'navy', 'purple']\n",
    "list_data = [week, rainbow]\n",
    "\n",
    "print(list_data[1][2])"
   ]
  },
  {
   "cell_type": "code",
   "execution_count": 14,
   "metadata": {},
   "outputs": [
    {
     "name": "stdout",
     "output_type": "stream",
     "text": [
      "score : 72\n"
     ]
    }
   ],
   "source": [
    "# 11\n",
    "kor_score = [30, 79, 20, 100, 80]\n",
    "math_score = [43, 59, 0, 30, 90]\n",
    "eng_score = [49, 72, 48, 67, 15]\n",
    "midterm_score = [kor_score, math_score, eng_score]\n",
    "print(\"score :\", midterm_score[2][1])"
   ]
  },
  {
   "cell_type": "code",
   "execution_count": 16,
   "metadata": {},
   "outputs": [
    {
     "name": "stdout",
     "output_type": "stream",
     "text": [
      "['a', '2', 'error']\n"
     ]
    }
   ],
   "source": [
    "# 12\n",
    "alist = [\"a\", \"b\", \"c\"]\n",
    "blist = [\"1\", \"2\", \"3\"]\n",
    "abcd = []\n",
    "\n",
    "for a, b in enumerate(zip(alist, blist)):\n",
    "    try:\n",
    "        abcd.append(b[a])\n",
    "    except IndexError:\n",
    "        abcd.append(\"error\")\n",
    "        \n",
    "print(abcd)"
   ]
  },
  {
   "cell_type": "code",
   "execution_count": 17,
   "metadata": {},
   "outputs": [
    {
     "name": "stdout",
     "output_type": "stream",
     "text": [
      "a1 b1\n",
      "a2 b2\n",
      "a3 b3\n"
     ]
    }
   ],
   "source": [
    "# 13\n",
    "alist = ['a1', 'a2', 'a3']\n",
    "blist = ['b1', 'b2', 'b3']\n",
    "\n",
    "for a, b, in zip(alist, blist):\n",
    "    print(a, b)"
   ]
  },
  {
   "cell_type": "code",
   "execution_count": 19,
   "metadata": {},
   "outputs": [
    {
     "name": "stdout",
     "output_type": "stream",
     "text": [
      "80\n"
     ]
    }
   ],
   "source": [
    "# 14\n",
    "alphabat = [\"a\", \"b\", \"c\", \"d\", \"e\", \"f\", \"g\", \"h\"]\n",
    "nums = [i for i in range(20)]\n",
    "answer = [alpha + str(num) for alpha in alphabat for num in nums if num % 2 == 0]\n",
    "print(len(answer))"
   ]
  },
  {
   "cell_type": "code",
   "execution_count": 20,
   "metadata": {},
   "outputs": [
    {
     "name": "stdout",
     "output_type": "stream",
     "text": [
      "Gachon cs50\n"
     ]
    }
   ],
   "source": [
    "# 15\n",
    "url = \"cs50.gachon.ac.kr\"\n",
    "university_name = \"Gachon University\"\n",
    "gachon_info = [(i + \" \" + j) for i, j in zip(university_name.split(\" \"), url.split(\".\"))]\n",
    "blank = 0\n",
    "print(gachon_info[blank])"
   ]
  }
 ],
 "metadata": {
  "kernelspec": {
   "display_name": "TensorFlow",
   "language": "python",
   "name": "tensorflow"
  },
  "language_info": {
   "codemirror_mode": {
    "name": "ipython",
    "version": 3
   },
   "file_extension": ".py",
   "mimetype": "text/x-python",
   "name": "python",
   "nbconvert_exporter": "python",
   "pygments_lexer": "ipython3",
   "version": "3.5.4"
  }
 },
 "nbformat": 4,
 "nbformat_minor": 2
}
