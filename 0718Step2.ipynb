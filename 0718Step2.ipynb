{
 "cells": [
  {
   "cell_type": "markdown",
   "metadata": {},
   "source": [
    "### 데이터 불러오기\n",
    "+ LEC_03_data_no_header.csv"
   ]
  },
  {
   "cell_type": "code",
   "execution_count": 3,
   "metadata": {},
   "outputs": [
    {
     "data": {
      "text/html": [
       "<div>\n",
       "<style scoped>\n",
       "    .dataframe tbody tr th:only-of-type {\n",
       "        vertical-align: middle;\n",
       "    }\n",
       "\n",
       "    .dataframe tbody tr th {\n",
       "        vertical-align: top;\n",
       "    }\n",
       "\n",
       "    .dataframe thead th {\n",
       "        text-align: right;\n",
       "    }\n",
       "</style>\n",
       "<table border=\"1\" class=\"dataframe\">\n",
       "  <thead>\n",
       "    <tr style=\"text-align: right;\">\n",
       "      <th></th>\n",
       "      <th>0</th>\n",
       "      <th>1</th>\n",
       "      <th>2</th>\n",
       "      <th>3</th>\n",
       "    </tr>\n",
       "  </thead>\n",
       "  <tbody>\n",
       "    <tr>\n",
       "      <th>0</th>\n",
       "      <td>John</td>\n",
       "      <td>USA</td>\n",
       "      <td>31</td>\n",
       "      <td>Student</td>\n",
       "    </tr>\n",
       "    <tr>\n",
       "      <th>1</th>\n",
       "      <td>Sabre</td>\n",
       "      <td>France</td>\n",
       "      <td>33</td>\n",
       "      <td>Lawyer</td>\n",
       "    </tr>\n",
       "    <tr>\n",
       "      <th>2</th>\n",
       "      <td>Kim</td>\n",
       "      <td>Korea</td>\n",
       "      <td>28</td>\n",
       "      <td>Developer</td>\n",
       "    </tr>\n",
       "    <tr>\n",
       "      <th>3</th>\n",
       "      <td>Sato</td>\n",
       "      <td>Japan</td>\n",
       "      <td>40</td>\n",
       "      <td>Chef</td>\n",
       "    </tr>\n",
       "    <tr>\n",
       "      <th>4</th>\n",
       "      <td>Lee</td>\n",
       "      <td>Korea</td>\n",
       "      <td>36</td>\n",
       "      <td>Professor</td>\n",
       "    </tr>\n",
       "    <tr>\n",
       "      <th>5</th>\n",
       "      <td>Smith</td>\n",
       "      <td>USA</td>\n",
       "      <td>55</td>\n",
       "      <td>CEO</td>\n",
       "    </tr>\n",
       "  </tbody>\n",
       "</table>\n",
       "</div>"
      ],
      "text/plain": [
       "       0       1   2          3\n",
       "0   John     USA  31    Student\n",
       "1  Sabre  France  33     Lawyer\n",
       "2    Kim   Korea  28  Developer\n",
       "3   Sato   Japan  40       Chef\n",
       "4    Lee   Korea  36  Professor\n",
       "5  Smith     USA  55        CEO"
      ]
     },
     "execution_count": 3,
     "metadata": {},
     "output_type": "execute_result"
    }
   ],
   "source": [
    "import pandas as pd\n",
    "\n",
    "df = pd.read_csv(\"LEC_03_data_no_header.csv\", header = None)\n",
    "df"
   ]
  },
  {
   "cell_type": "markdown",
   "metadata": {},
   "source": [
    "### 모든 행, 1열부터 2열까지"
   ]
  },
  {
   "cell_type": "code",
   "execution_count": 9,
   "metadata": {},
   "outputs": [
    {
     "data": {
      "text/html": [
       "<div>\n",
       "<style scoped>\n",
       "    .dataframe tbody tr th:only-of-type {\n",
       "        vertical-align: middle;\n",
       "    }\n",
       "\n",
       "    .dataframe tbody tr th {\n",
       "        vertical-align: top;\n",
       "    }\n",
       "\n",
       "    .dataframe thead th {\n",
       "        text-align: right;\n",
       "    }\n",
       "</style>\n",
       "<table border=\"1\" class=\"dataframe\">\n",
       "  <thead>\n",
       "    <tr style=\"text-align: right;\">\n",
       "      <th></th>\n",
       "      <th>1</th>\n",
       "      <th>2</th>\n",
       "    </tr>\n",
       "  </thead>\n",
       "  <tbody>\n",
       "    <tr>\n",
       "      <th>0</th>\n",
       "      <td>USA</td>\n",
       "      <td>31</td>\n",
       "    </tr>\n",
       "    <tr>\n",
       "      <th>1</th>\n",
       "      <td>France</td>\n",
       "      <td>33</td>\n",
       "    </tr>\n",
       "    <tr>\n",
       "      <th>2</th>\n",
       "      <td>Korea</td>\n",
       "      <td>28</td>\n",
       "    </tr>\n",
       "    <tr>\n",
       "      <th>3</th>\n",
       "      <td>Japan</td>\n",
       "      <td>40</td>\n",
       "    </tr>\n",
       "    <tr>\n",
       "      <th>4</th>\n",
       "      <td>Korea</td>\n",
       "      <td>36</td>\n",
       "    </tr>\n",
       "    <tr>\n",
       "      <th>5</th>\n",
       "      <td>USA</td>\n",
       "      <td>55</td>\n",
       "    </tr>\n",
       "  </tbody>\n",
       "</table>\n",
       "</div>"
      ],
      "text/plain": [
       "        1   2\n",
       "0     USA  31\n",
       "1  France  33\n",
       "2   Korea  28\n",
       "3   Japan  40\n",
       "4   Korea  36\n",
       "5     USA  55"
      ]
     },
     "execution_count": 9,
     "metadata": {},
     "output_type": "execute_result"
    }
   ],
   "source": [
    "df.iloc[:, 1 : 3]"
   ]
  },
  {
   "cell_type": "markdown",
   "metadata": {},
   "source": [
    "### 1행부터 3행, 2열부터 끝까지"
   ]
  },
  {
   "cell_type": "code",
   "execution_count": 15,
   "metadata": {},
   "outputs": [
    {
     "data": {
      "text/html": [
       "<div>\n",
       "<style scoped>\n",
       "    .dataframe tbody tr th:only-of-type {\n",
       "        vertical-align: middle;\n",
       "    }\n",
       "\n",
       "    .dataframe tbody tr th {\n",
       "        vertical-align: top;\n",
       "    }\n",
       "\n",
       "    .dataframe thead th {\n",
       "        text-align: right;\n",
       "    }\n",
       "</style>\n",
       "<table border=\"1\" class=\"dataframe\">\n",
       "  <thead>\n",
       "    <tr style=\"text-align: right;\">\n",
       "      <th></th>\n",
       "      <th>2</th>\n",
       "      <th>3</th>\n",
       "    </tr>\n",
       "  </thead>\n",
       "  <tbody>\n",
       "    <tr>\n",
       "      <th>1</th>\n",
       "      <td>33</td>\n",
       "      <td>Lawyer</td>\n",
       "    </tr>\n",
       "    <tr>\n",
       "      <th>2</th>\n",
       "      <td>28</td>\n",
       "      <td>Developer</td>\n",
       "    </tr>\n",
       "    <tr>\n",
       "      <th>3</th>\n",
       "      <td>40</td>\n",
       "      <td>Chef</td>\n",
       "    </tr>\n",
       "  </tbody>\n",
       "</table>\n",
       "</div>"
      ],
      "text/plain": [
       "    2          3\n",
       "1  33     Lawyer\n",
       "2  28  Developer\n",
       "3  40       Chef"
      ]
     },
     "execution_count": 15,
     "metadata": {},
     "output_type": "execute_result"
    }
   ],
   "source": [
    "df.iloc[1 : 4, 2 :]"
   ]
  },
  {
   "cell_type": "markdown",
   "metadata": {},
   "source": [
    "### 모든행, 0, 2, 3열 데이터 추출"
   ]
  },
  {
   "cell_type": "code",
   "execution_count": 19,
   "metadata": {},
   "outputs": [
    {
     "data": {
      "text/html": [
       "<div>\n",
       "<style scoped>\n",
       "    .dataframe tbody tr th:only-of-type {\n",
       "        vertical-align: middle;\n",
       "    }\n",
       "\n",
       "    .dataframe tbody tr th {\n",
       "        vertical-align: top;\n",
       "    }\n",
       "\n",
       "    .dataframe thead th {\n",
       "        text-align: right;\n",
       "    }\n",
       "</style>\n",
       "<table border=\"1\" class=\"dataframe\">\n",
       "  <thead>\n",
       "    <tr style=\"text-align: right;\">\n",
       "      <th></th>\n",
       "      <th>0</th>\n",
       "      <th>2</th>\n",
       "      <th>3</th>\n",
       "    </tr>\n",
       "  </thead>\n",
       "  <tbody>\n",
       "    <tr>\n",
       "      <th>0</th>\n",
       "      <td>John</td>\n",
       "      <td>31</td>\n",
       "      <td>Student</td>\n",
       "    </tr>\n",
       "    <tr>\n",
       "      <th>1</th>\n",
       "      <td>Sabre</td>\n",
       "      <td>33</td>\n",
       "      <td>Lawyer</td>\n",
       "    </tr>\n",
       "    <tr>\n",
       "      <th>2</th>\n",
       "      <td>Kim</td>\n",
       "      <td>28</td>\n",
       "      <td>Developer</td>\n",
       "    </tr>\n",
       "    <tr>\n",
       "      <th>3</th>\n",
       "      <td>Sato</td>\n",
       "      <td>40</td>\n",
       "      <td>Chef</td>\n",
       "    </tr>\n",
       "    <tr>\n",
       "      <th>4</th>\n",
       "      <td>Lee</td>\n",
       "      <td>36</td>\n",
       "      <td>Professor</td>\n",
       "    </tr>\n",
       "    <tr>\n",
       "      <th>5</th>\n",
       "      <td>Smith</td>\n",
       "      <td>55</td>\n",
       "      <td>CEO</td>\n",
       "    </tr>\n",
       "  </tbody>\n",
       "</table>\n",
       "</div>"
      ],
      "text/plain": [
       "       0   2          3\n",
       "0   John  31    Student\n",
       "1  Sabre  33     Lawyer\n",
       "2    Kim  28  Developer\n",
       "3   Sato  40       Chef\n",
       "4    Lee  36  Professor\n",
       "5  Smith  55        CEO"
      ]
     },
     "execution_count": 19,
     "metadata": {},
     "output_type": "execute_result"
    }
   ],
   "source": [
    "df.iloc[:, [0, 2, 3]]"
   ]
  },
  {
   "cell_type": "markdown",
   "metadata": {},
   "source": [
    "### 1행 3열, 1열 3열 추출"
   ]
  },
  {
   "cell_type": "code",
   "execution_count": 21,
   "metadata": {},
   "outputs": [
    {
     "data": {
      "text/html": [
       "<div>\n",
       "<style scoped>\n",
       "    .dataframe tbody tr th:only-of-type {\n",
       "        vertical-align: middle;\n",
       "    }\n",
       "\n",
       "    .dataframe tbody tr th {\n",
       "        vertical-align: top;\n",
       "    }\n",
       "\n",
       "    .dataframe thead th {\n",
       "        text-align: right;\n",
       "    }\n",
       "</style>\n",
       "<table border=\"1\" class=\"dataframe\">\n",
       "  <thead>\n",
       "    <tr style=\"text-align: right;\">\n",
       "      <th></th>\n",
       "      <th>1</th>\n",
       "      <th>3</th>\n",
       "    </tr>\n",
       "  </thead>\n",
       "  <tbody>\n",
       "    <tr>\n",
       "      <th>1</th>\n",
       "      <td>France</td>\n",
       "      <td>Lawyer</td>\n",
       "    </tr>\n",
       "    <tr>\n",
       "      <th>3</th>\n",
       "      <td>Japan</td>\n",
       "      <td>Chef</td>\n",
       "    </tr>\n",
       "  </tbody>\n",
       "</table>\n",
       "</div>"
      ],
      "text/plain": [
       "        1       3\n",
       "1  France  Lawyer\n",
       "3   Japan    Chef"
      ]
     },
     "execution_count": 21,
     "metadata": {},
     "output_type": "execute_result"
    }
   ],
   "source": [
    "df.iloc[[1, 3], [1, 3]]"
   ]
  },
  {
   "cell_type": "code",
   "execution_count": 26,
   "metadata": {},
   "outputs": [
    {
     "name": "stdout",
     "output_type": "stream",
     "text": [
      "<class 'pandas.core.frame.DataFrame'>\n",
      "<class 'pandas.core.series.Series'>\n"
     ]
    }
   ],
   "source": [
    "# LEC_01_data.csv를 읽으시오.\n",
    "df = pd.read_csv(\"LEC_01_data.csv\")\n",
    "\n",
    "# Df 데이터 타입 확인\n",
    "print(type(df))\n",
    "\n",
    "# Name 데이터 타입 확인\n",
    "print(type(df.Name))"
   ]
  },
  {
   "cell_type": "code",
   "execution_count": 36,
   "metadata": {
    "scrolled": true
   },
   "outputs": [
    {
     "name": "stdout",
     "output_type": "stream",
     "text": [
      "0      Student\n",
      "1       Lawyer\n",
      "2    Developer\n",
      "3         Chef\n",
      "4    Professor\n",
      "5          CEO\n",
      "6       Banker\n",
      "Name: Job, dtype: object \n",
      "\n",
      "  Country        Job\n",
      "0     USA    Student\n",
      "1  France     Lawyer\n",
      "2   Korea  Developer\n",
      "3   Japan       Chef\n",
      "4   Korea  Professor\n",
      "5     USA        CEO\n",
      "6     USA     Banker \n",
      "\n",
      "Name          John\n",
      "Country        USA\n",
      "Age             31\n",
      "Job        Student\n",
      "Name: 0, dtype: object \n",
      "\n",
      "   Name Country  Age      Job\n",
      "0  John     USA   31  Student\n",
      "3  Sato   Japan   40     Chef\n",
      "          Age\n",
      "Country      \n",
      "France   33.0\n",
      "Japan    40.0\n",
      "Korea    32.0\n",
      "USA      44.7\n"
     ]
    }
   ],
   "source": [
    "# Job을 추출하시오.\n",
    "print(df.Job , \"\\n\")\n",
    "\n",
    "# \"Country\", \"Job\" 추출하시오.\n",
    "print(df[[\"Country\", \"Job\"]], \"\\n\")\n",
    "\n",
    "print(df.loc[0], \"\\n\")\n",
    "\n",
    "print(df.loc[[0, 3]])\n",
    "\n",
    "# \"Country별 평균 Age를 구하시오\"\n",
    "print(df.groupby(\"Country\").mean().round(1))"
   ]
  },
  {
   "cell_type": "markdown",
   "metadata": {},
   "source": [
    "# LEC_03_data.csv를 읽으시오.\n",
    "### Country가 Korea인 경우를 출력\n",
    "### Age > 30 인 경우\n",
    "### Country가 'Korea'가 아닌 경우 출력\n",
    "### Age >= 33\n",
    "### Country가 'USA'가 아니고 Age >= 36\n",
    "### Country가 Korea 또는 Job이 Chef인 경우\n",
    "### Age > 30 이고 Job 이 CEO 인 경우 데이터 추출"
   ]
  },
  {
   "cell_type": "code",
   "execution_count": 48,
   "metadata": {},
   "outputs": [
    {
     "name": "stdout",
     "output_type": "stream",
     "text": [
      "  Name Country  Age        Job\n",
      "2  Kim   Korea   28  Developer\n",
      "4  Lee   Korea   36  Professor \n",
      "\n",
      "    Name Country  Age        Job\n",
      "0   John     USA   31    Student\n",
      "1  Sabre  France   33     Lawyer\n",
      "3   Sato   Japan   40       Chef\n",
      "4    Lee   Korea   36  Professor\n",
      "5  Smith     USA   55        CEO \n",
      "\n",
      "    Name Country  Age      Job\n",
      "0   John     USA   31  Student\n",
      "1  Sabre  France   33   Lawyer\n",
      "3   Sato   Japan   40     Chef\n",
      "5  Smith     USA   55      CEO \n",
      "\n",
      "    Name Country  Age        Job\n",
      "1  Sabre  France   33     Lawyer\n",
      "3   Sato   Japan   40       Chef\n",
      "4    Lee   Korea   36  Professor\n",
      "5  Smith     USA   55        CEO \n",
      "\n"
     ]
    }
   ],
   "source": [
    "import pandas as pd\n",
    "df = pd.read_csv(\"LEC_03_data.csv\")\n",
    "\n",
    "print(df[df[\"Country\"] == \"Korea\"], \"\\n\")\n",
    "\n",
    "print(df[df[\"Age\"] > 30], \"\\n\")\n",
    "\n",
    "print(df[df[\"Country\"] != \"Korea\"], \"\\n\")\n",
    "\n",
    "print(df[df[\"Age\"] >= 33], \"\\n\")\n"
   ]
  },
  {
   "cell_type": "code",
   "execution_count": 51,
   "metadata": {},
   "outputs": [
    {
     "name": "stderr",
     "output_type": "stream",
     "text": [
      "/Users/wonjuson/anaconda2/envs/tensorflow/lib/python3.5/site-packages/pandas/util/_decorators.py:118: FutureWarning: The `sheetname` keyword is deprecated, use `sheet_name` instead\n",
      "  return func(*args, **kwargs)\n"
     ]
    },
    {
     "data": {
      "text/html": [
       "<div>\n",
       "<style scoped>\n",
       "    .dataframe tbody tr th:only-of-type {\n",
       "        vertical-align: middle;\n",
       "    }\n",
       "\n",
       "    .dataframe tbody tr th {\n",
       "        vertical-align: top;\n",
       "    }\n",
       "\n",
       "    .dataframe thead th {\n",
       "        text-align: right;\n",
       "    }\n",
       "</style>\n",
       "<table border=\"1\" class=\"dataframe\">\n",
       "  <thead>\n",
       "    <tr style=\"text-align: right;\">\n",
       "      <th></th>\n",
       "      <th>이름</th>\n",
       "      <th>시급</th>\n",
       "      <th>출근시간</th>\n",
       "      <th>퇴근시간</th>\n",
       "      <th>아이스크림 생산</th>\n",
       "      <th>근무시간</th>\n",
       "      <th>시간당 아이스크림</th>\n",
       "    </tr>\n",
       "  </thead>\n",
       "  <tbody>\n",
       "    <tr>\n",
       "      <th>0</th>\n",
       "      <td>nayoung</td>\n",
       "      <td>8000</td>\n",
       "      <td>6</td>\n",
       "      <td>15</td>\n",
       "      <td>600</td>\n",
       "      <td>9</td>\n",
       "      <td>591</td>\n",
       "    </tr>\n",
       "    <tr>\n",
       "      <th>1</th>\n",
       "      <td>kim</td>\n",
       "      <td>15000</td>\n",
       "      <td>8</td>\n",
       "      <td>12</td>\n",
       "      <td>1800</td>\n",
       "      <td>4</td>\n",
       "      <td>1796</td>\n",
       "    </tr>\n",
       "    <tr>\n",
       "      <th>2</th>\n",
       "      <td>meyaon</td>\n",
       "      <td>15000</td>\n",
       "      <td>9</td>\n",
       "      <td>16</td>\n",
       "      <td>900</td>\n",
       "      <td>7</td>\n",
       "      <td>893</td>\n",
       "    </tr>\n",
       "    <tr>\n",
       "      <th>3</th>\n",
       "      <td>degrea</td>\n",
       "      <td>2000</td>\n",
       "      <td>10</td>\n",
       "      <td>18</td>\n",
       "      <td>400</td>\n",
       "      <td>8</td>\n",
       "      <td>392</td>\n",
       "    </tr>\n",
       "  </tbody>\n",
       "</table>\n",
       "</div>"
      ],
      "text/plain": [
       "        이름     시급  출근시간  퇴근시간  아이스크림 생산  근무시간  시간당 아이스크림\n",
       "0  nayoung   8000     6    15       600     9        591\n",
       "1      kim  15000     8    12      1800     4       1796\n",
       "2   meyaon  15000     9    16       900     7        893\n",
       "3   degrea   2000    10    18       400     8        392"
      ]
     },
     "execution_count": 51,
     "metadata": {},
     "output_type": "execute_result"
    }
   ],
   "source": [
    "import pandas as pd\n",
    "\n",
    "df = pd.read_excel(\"management.xlsx\", sheetname = \"Sheet1\")\n",
    "df[\"근무시간\"] = df[\"퇴근시간\"] - df[\"출근시간\"]\n",
    "df[\"시간당 아이스크림\"] = df[\"아이스크림 생산\"] - df[\"근무시간\"]\n",
    "df"
   ]
  },
  {
   "cell_type": "code",
   "execution_count": 53,
   "metadata": {},
   "outputs": [
    {
     "data": {
      "text/html": [
       "<div>\n",
       "<style scoped>\n",
       "    .dataframe tbody tr th:only-of-type {\n",
       "        vertical-align: middle;\n",
       "    }\n",
       "\n",
       "    .dataframe tbody tr th {\n",
       "        vertical-align: top;\n",
       "    }\n",
       "\n",
       "    .dataframe thead th {\n",
       "        text-align: right;\n",
       "    }\n",
       "</style>\n",
       "<table border=\"1\" class=\"dataframe\">\n",
       "  <thead>\n",
       "    <tr style=\"text-align: right;\">\n",
       "      <th></th>\n",
       "      <th>이름</th>\n",
       "      <th>시급</th>\n",
       "      <th>출근시간</th>\n",
       "      <th>퇴근시간</th>\n",
       "      <th>아이스크림 생산</th>\n",
       "      <th>근무시간</th>\n",
       "      <th>시간당 아이스크림</th>\n",
       "    </tr>\n",
       "  </thead>\n",
       "  <tbody>\n",
       "    <tr>\n",
       "      <th>1</th>\n",
       "      <td>kim</td>\n",
       "      <td>15000</td>\n",
       "      <td>8</td>\n",
       "      <td>12</td>\n",
       "      <td>1800</td>\n",
       "      <td>4</td>\n",
       "      <td>1796</td>\n",
       "    </tr>\n",
       "    <tr>\n",
       "      <th>2</th>\n",
       "      <td>meyaon</td>\n",
       "      <td>15000</td>\n",
       "      <td>9</td>\n",
       "      <td>16</td>\n",
       "      <td>900</td>\n",
       "      <td>7</td>\n",
       "      <td>893</td>\n",
       "    </tr>\n",
       "    <tr>\n",
       "      <th>0</th>\n",
       "      <td>nayoung</td>\n",
       "      <td>8000</td>\n",
       "      <td>6</td>\n",
       "      <td>15</td>\n",
       "      <td>600</td>\n",
       "      <td>9</td>\n",
       "      <td>591</td>\n",
       "    </tr>\n",
       "    <tr>\n",
       "      <th>3</th>\n",
       "      <td>degrea</td>\n",
       "      <td>2000</td>\n",
       "      <td>10</td>\n",
       "      <td>18</td>\n",
       "      <td>400</td>\n",
       "      <td>8</td>\n",
       "      <td>392</td>\n",
       "    </tr>\n",
       "  </tbody>\n",
       "</table>\n",
       "</div>"
      ],
      "text/plain": [
       "        이름     시급  출근시간  퇴근시간  아이스크림 생산  근무시간  시간당 아이스크림\n",
       "1      kim  15000     8    12      1800     4       1796\n",
       "2   meyaon  15000     9    16       900     7        893\n",
       "0  nayoung   8000     6    15       600     9        591\n",
       "3   degrea   2000    10    18       400     8        392"
      ]
     },
     "execution_count": 53,
     "metadata": {},
     "output_type": "execute_result"
    }
   ],
   "source": [
    "df = df.sort_values(by = [\"시간당 아이스크림\"], ascending = [False])\n",
    "df"
   ]
  },
  {
   "cell_type": "markdown",
   "metadata": {},
   "source": [
    "### 근무시간이 높은 시간에 따라 정렬하시오."
   ]
  },
  {
   "cell_type": "code",
   "execution_count": 59,
   "metadata": {},
   "outputs": [
    {
     "data": {
      "text/html": [
       "<div>\n",
       "<style scoped>\n",
       "    .dataframe tbody tr th:only-of-type {\n",
       "        vertical-align: middle;\n",
       "    }\n",
       "\n",
       "    .dataframe tbody tr th {\n",
       "        vertical-align: top;\n",
       "    }\n",
       "\n",
       "    .dataframe thead th {\n",
       "        text-align: right;\n",
       "    }\n",
       "</style>\n",
       "<table border=\"1\" class=\"dataframe\">\n",
       "  <thead>\n",
       "    <tr style=\"text-align: right;\">\n",
       "      <th></th>\n",
       "      <th>이름</th>\n",
       "      <th>시급</th>\n",
       "      <th>출근시간</th>\n",
       "      <th>퇴근시간</th>\n",
       "      <th>아이스크림 생산</th>\n",
       "      <th>근무시간</th>\n",
       "      <th>시간당 아이스크림</th>\n",
       "    </tr>\n",
       "  </thead>\n",
       "  <tbody>\n",
       "    <tr>\n",
       "      <th>0</th>\n",
       "      <td>nayoung</td>\n",
       "      <td>8000</td>\n",
       "      <td>6</td>\n",
       "      <td>15</td>\n",
       "      <td>600</td>\n",
       "      <td>9</td>\n",
       "      <td>591</td>\n",
       "    </tr>\n",
       "    <tr>\n",
       "      <th>3</th>\n",
       "      <td>degrea</td>\n",
       "      <td>2000</td>\n",
       "      <td>10</td>\n",
       "      <td>18</td>\n",
       "      <td>400</td>\n",
       "      <td>8</td>\n",
       "      <td>392</td>\n",
       "    </tr>\n",
       "    <tr>\n",
       "      <th>2</th>\n",
       "      <td>meyaon</td>\n",
       "      <td>15000</td>\n",
       "      <td>9</td>\n",
       "      <td>16</td>\n",
       "      <td>900</td>\n",
       "      <td>7</td>\n",
       "      <td>893</td>\n",
       "    </tr>\n",
       "    <tr>\n",
       "      <th>1</th>\n",
       "      <td>kim</td>\n",
       "      <td>15000</td>\n",
       "      <td>8</td>\n",
       "      <td>12</td>\n",
       "      <td>1800</td>\n",
       "      <td>4</td>\n",
       "      <td>1796</td>\n",
       "    </tr>\n",
       "  </tbody>\n",
       "</table>\n",
       "</div>"
      ],
      "text/plain": [
       "        이름     시급  출근시간  퇴근시간  아이스크림 생산  근무시간  시간당 아이스크림\n",
       "0  nayoung   8000     6    15       600     9        591\n",
       "3   degrea   2000    10    18       400     8        392\n",
       "2   meyaon  15000     9    16       900     7        893\n",
       "1      kim  15000     8    12      1800     4       1796"
      ]
     },
     "execution_count": 59,
     "metadata": {},
     "output_type": "execute_result"
    }
   ],
   "source": [
    "df = df.sort_values(by = [\"근무시간\"], ascending = [False])\n",
    "df"
   ]
  },
  {
   "cell_type": "markdown",
   "metadata": {},
   "source": [
    "### result 엑셀파일로 저장하시오."
   ]
  },
  {
   "cell_type": "code",
   "execution_count": 57,
   "metadata": {},
   "outputs": [],
   "source": [
    "df.to_excel(\"result.xlsx\", sheet_name = \"Sheet1\")"
   ]
  },
  {
   "cell_type": "markdown",
   "metadata": {},
   "source": [
    "### 그래프 그리기"
   ]
  },
  {
   "cell_type": "code",
   "execution_count": 61,
   "metadata": {},
   "outputs": [
    {
     "data": {
      "text/plain": [
       "<matplotlib.axes._subplots.AxesSubplot at 0x127f76438>"
      ]
     },
     "execution_count": 61,
     "metadata": {},
     "output_type": "execute_result"
    },
    {
     "data": {
      "image/png": "[encoded data removed]",
      "text/plain": [
       "<Figure size 432x288 with 1 Axes>"
      ]
     },
     "metadata": {},
     "output_type": "display_data"
    }
   ],
   "source": [
    "df[\"시간당 아이스크림\"].plot(kind = \"bar\")"
   ]
  },
  {
   "cell_type": "code",
   "execution_count": null,
   "metadata": {},
   "outputs": [],
   "source": []
  }
 ],
 "metadata": {
  "kernelspec": {
   "display_name": "TensorFlow",
   "language": "python",
   "name": "tensorflow"
  },
  "language_info": {
   "codemirror_mode": {
    "name": "ipython",
    "version": 3
   },
   "file_extension": ".py",
   "mimetype": "text/x-python",
   "name": "python",
   "nbconvert_exporter": "python",
   "pygments_lexer": "ipython3",
   "version": "3.5.4"
  }
 },
 "nbformat": 4,
 "nbformat_minor": 2
}
