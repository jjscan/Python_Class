{
 "cells": [
  {
   "cell_type": "code",
   "execution_count": 2,
   "metadata": {},
   "outputs": [
    {
     "name": "stdout",
     "output_type": "stream",
     "text": [
      "Before 10\n",
      "In Function : 20\n",
      "After : 10\n"
     ]
    }
   ],
   "source": [
    "# 1\n",
    "def test(t):\n",
    "    t = 20\n",
    "    print(\"In Function :\", t)\n",
    "\n",
    "x = 10\n",
    "print(\"Before\", x)\n",
    "test(x)\n",
    "print(\"After :\", x)"
   ]
  },
  {
   "cell_type": "code",
   "execution_count": 10,
   "metadata": {},
   "outputs": [
    {
     "name": "stdout",
     "output_type": "stream",
     "text": [
      "None\n"
     ]
    }
   ],
   "source": [
    "# 2\n",
    "def sorting_function(list_value):\n",
    "    return list_value.sort()\n",
    "#    return sorted(list_value)\n",
    "\n",
    "print(sorting_function([5, 4, 3, 2, 1]))"
   ]
  },
  {
   "cell_type": "code",
   "execution_count": 33,
   "metadata": {},
   "outputs": [
    {
     "name": "stdout",
     "output_type": "stream",
     "text": [
      "\n"
     ]
    }
   ],
   "source": [
    "# 3\n",
    "number = \"100\"\n",
    "def midterm(number):\n",
    "    result = \"\"\n",
    "    if number.isdigit() is True:\n",
    "        if number is 100:\n",
    "            if number / 10 == 1:\n",
    "                result = True\n",
    "    else:\n",
    "        result = False\n",
    "        \n",
    "    return result\n",
    "\n",
    "print(midterm(number))"
   ]
  },
  {
   "cell_type": "code",
   "execution_count": 35,
   "metadata": {},
   "outputs": [
    {
     "name": "stdout",
     "output_type": "stream",
     "text": [
      "None\n"
     ]
    }
   ],
   "source": [
    "# 4\n",
    "def is_yes(your_answer):\n",
    "    if your_answer.upper() == \"YES\" or you_answer.upper() == \"Y\":\n",
    "        result = your_answer.lower()\n",
    "        \n",
    "print(is_yes(\"Yes\"))"
   ]
  },
  {
   "cell_type": "code",
   "execution_count": 37,
   "metadata": {},
   "outputs": [
    {
     "name": "stdout",
     "output_type": "stream",
     "text": [
      "False\n"
     ]
    }
   ],
   "source": [
    "# 5\n",
    "def add_and_mul(a, b, c):\n",
    "    return b + a * c + b\n",
    "\n",
    "print(add_and_mul(3, 4, 5) == 63)"
   ]
  },
  {
   "cell_type": "code",
   "execution_count": 15,
   "metadata": {},
   "outputs": [
    {
     "ename": "TypeError",
     "evalue": "args_test_3() missing 1 required keyword-only argument: 'three'",
     "output_type": "error",
     "traceback": [
      "\u001b[0;31m---------------------------------------------------------------------------\u001b[0m",
      "\u001b[0;31mTypeError\u001b[0m                                 Traceback (most recent call last)",
      "\u001b[0;32m<ipython-input-15-df838165094f>\u001b[0m in \u001b[0;36m<module>\u001b[0;34m()\u001b[0m\n\u001b[1;32m      4\u001b[0m     \u001b[0mprint\u001b[0m\u001b[0;34m(\u001b[0m\u001b[0margs\u001b[0m\u001b[0;34m)\u001b[0m\u001b[0;34m\u001b[0m\u001b[0m\n\u001b[1;32m      5\u001b[0m \u001b[0;34m\u001b[0m\u001b[0m\n\u001b[0;32m----> 6\u001b[0;31m \u001b[0margs_test_3\u001b[0m\u001b[0;34m(\u001b[0m\u001b[0;36m3\u001b[0m\u001b[0;34m,\u001b[0m \u001b[0;36m4\u001b[0m\u001b[0;34m,\u001b[0m \u001b[0;36m5\u001b[0m\u001b[0;34m,\u001b[0m \u001b[0;36m6\u001b[0m\u001b[0;34m,\u001b[0m \u001b[0;36m7\u001b[0m\u001b[0;34m)\u001b[0m\u001b[0;34m\u001b[0m\u001b[0m\n\u001b[0m",
      "\u001b[0;31mTypeError\u001b[0m: args_test_3() missing 1 required keyword-only argument: 'three'"
     ]
    }
   ],
   "source": [
    "# 6\n",
    "def args_test_3(one, two, *args, three):\n",
    "    print(one + two + sum(args))\n",
    "    print(args)\n",
    "    \n",
    "args_test_3(3, 4, 5, 6, 7)"
   ]
  },
  {
   "cell_type": "code",
   "execution_count": 16,
   "metadata": {},
   "outputs": [
    {
     "name": "stdout",
     "output_type": "stream",
     "text": [
      "['green', 'blue']\n"
     ]
    }
   ],
   "source": [
    "# 7\n",
    "def rain(colors):\n",
    "    colors.append(\"purple\")\n",
    "    colors = [\"green\", \"blue\"]\n",
    "    return colors\n",
    "\n",
    "rainbow = [\"red\", \"orange\"]\n",
    "print(rain(rainbow))"
   ]
  },
  {
   "cell_type": "code",
   "execution_count": 18,
   "metadata": {},
   "outputs": [
    {
     "name": "stdout",
     "output_type": "stream",
     "text": [
      "8\n",
      "None\n"
     ]
    }
   ],
   "source": [
    "# 8\n",
    "def function(value):\n",
    "    print(value ** 3)\n",
    "    \n",
    "print(function(2))"
   ]
  },
  {
   "cell_type": "code",
   "execution_count": 39,
   "metadata": {},
   "outputs": [
    {
     "name": "stdout",
     "output_type": "stream",
     "text": [
      "appl\n"
     ]
    }
   ],
   "source": [
    "# 9\n",
    "def get_apple(fruit):\n",
    "    fruit = list(fruit)\n",
    "    fruit.append(\"e\")\n",
    "    fruit = [\"apple\"]\n",
    "    \n",
    "    return fruit\n",
    "\n",
    "fruit = \"appl\"\n",
    "get_apple(fruit)\n",
    "print(fruit)"
   ]
  },
  {
   "cell_type": "code",
   "execution_count": 20,
   "metadata": {},
   "outputs": [
    {
     "name": "stdout",
     "output_type": "stream",
     "text": [
      "I Love You543210\n"
     ]
    }
   ],
   "source": [
    "# 10\n",
    "def return_sentence(sentence, n):\n",
    "    sentence += str(n)\n",
    "    n -= 1\n",
    "    if n < 0:\n",
    "        return sentence\n",
    "    else:\n",
    "        return(return_sentence(sentence, n))\n",
    "    \n",
    "sentence = \"I Love You\"\n",
    "print(return_sentence(sentence, 5))"
   ]
  },
  {
   "cell_type": "code",
   "execution_count": 22,
   "metadata": {},
   "outputs": [
    {
     "name": "stdout",
     "output_type": "stream",
     "text": [
      "['x']\n"
     ]
    }
   ],
   "source": [
    "# 11\n",
    "def test(x, y):\n",
    "    temp = x\n",
    "    x = y\n",
    "    y = temp\n",
    "    return y.append(x)\n",
    "\n",
    "x = [\"y\"]\n",
    "y = [\"x\"]\n",
    "test(x, y)\n",
    "print(y)"
   ]
  },
  {
   "cell_type": "code",
   "execution_count": 24,
   "metadata": {},
   "outputs": [
    {
     "name": "stdout",
     "output_type": "stream",
     "text": [
      "Odd\n",
      "Even\n"
     ]
    }
   ],
   "source": [
    "# 12\n",
    "def countdown(n):\n",
    "    if n % 2 == 0:\n",
    "        print(\"Even\")\n",
    "    else:\n",
    "        print(\"Odd\")\n",
    "        countdown(n - 1)\n",
    "countdown(3)"
   ]
  },
  {
   "cell_type": "code",
   "execution_count": 25,
   "metadata": {},
   "outputs": [
    {
     "name": "stdout",
     "output_type": "stream",
     "text": [
      "120\n"
     ]
    }
   ],
   "source": [
    "# 13\n",
    "def factorial_calculator(n):\n",
    "    if n in (0, 1):\n",
    "        return 1\n",
    "    else:\n",
    "        return n * factorial_calculator(n - 1)\n",
    "    \n",
    "print(factorial_calculator(5))"
   ]
  },
  {
   "cell_type": "code",
   "execution_count": 27,
   "metadata": {},
   "outputs": [
    {
     "name": "stdout",
     "output_type": "stream",
     "text": [
      "15\n"
     ]
    }
   ],
   "source": [
    "# 14\n",
    "def calculate_rectangle_area(rectangle_x, rectangle_y):\n",
    "    rectangle_x = 3\n",
    "    rectangle_y = 5\n",
    "    result = rectangle_x * rectangle_y\n",
    "    return result\n",
    "\n",
    "rectangle_x = 2\n",
    "rectangle_y = 4\n",
    "print(calculate_rectangle_area(rectangle_x, rectangle_y))"
   ]
  },
  {
   "cell_type": "code",
   "execution_count": 29,
   "metadata": {},
   "outputs": [
    {
     "name": "stdout",
     "output_type": "stream",
     "text": [
      "Value 10\n",
      "Value 20\n"
     ]
    }
   ],
   "source": [
    "# 15\n",
    "def exam_func():\n",
    "    x = 10\n",
    "    print(\"Value\", x)\n",
    "    \n",
    "x = 20\n",
    "exam_func()\n",
    "print(\"Value\", x)"
   ]
  },
  {
   "cell_type": "code",
   "execution_count": 41,
   "metadata": {},
   "outputs": [
    {
     "name": "stdout",
     "output_type": "stream",
     "text": [
      "None\n"
     ]
    }
   ],
   "source": [
    "# 16\n",
    "country = [\"Korea\", \"Japan\", \"China\"]\n",
    "country.append(\"Remove\")\n",
    "print(country.remove(\"Remove\"))"
   ]
  }
 ],
 "metadata": {
  "kernelspec": {
   "display_name": "TensorFlow",
   "language": "python",
   "name": "tensorflow"
  },
  "language_info": {
   "codemirror_mode": {
    "name": "ipython",
    "version": 3
   },
   "file_extension": ".py",
   "mimetype": "text/x-python",
   "name": "python",
   "nbconvert_exporter": "python",
   "pygments_lexer": "ipython3",
   "version": "3.5.4"
  }
 },
 "nbformat": 4,
 "nbformat_minor": 2
}
