{
 "cells": [
  {
   "cell_type": "code",
   "execution_count": 5,
   "metadata": {},
   "outputs": [
    {
     "name": "stdout",
     "output_type": "stream",
     "text": [
      "숫자 입력 : 5\n",
      "5 * 4 * 3 * 2 * 1\n",
      "120\n"
     ]
    }
   ],
   "source": [
    "# 재귀 함수 (팩토리얼)\n",
    "\n",
    "def factorial(n):\n",
    "    if(n == 1):\n",
    "        print(1)\n",
    "        return 1\n",
    "    else:\n",
    "        print(n, \"*\", end = \" \")\n",
    "        return n * factorial(n - 1)\n",
    "    \n",
    "number = int(input(\"숫자 입력 : \"))\n",
    "print(factorial(number))"
   ]
  },
  {
   "cell_type": "code",
   "execution_count": 6,
   "metadata": {},
   "outputs": [],
   "source": [
    "# 1\n",
    "def calculator(N):\n",
    "    if N % 2 == 0:\n",
    "        result = 1\n",
    "        for i in range(1, N + 1):\n",
    "            result = result * i\n",
    "    else:\n",
    "        result = 0\n",
    "        for i in range(1, N + 1):\n",
    "            result = result + i\n",
    "            \n",
    "    return result"
   ]
  },
  {
   "cell_type": "code",
   "execution_count": 8,
   "metadata": {},
   "outputs": [
    {
     "name": "stdout",
     "output_type": "stream",
     "text": [
      "apple\n"
     ]
    }
   ],
   "source": [
    "# 2\n",
    "fruit = \"apple\"\n",
    "\n",
    "if fruit == 'Apple':\n",
    "    fruit = 'Apple'\n",
    "elif fruit == 'fruit':\n",
    "    fruit = 'fruit'\n",
    "else:\n",
    "    fruit = fruit\n",
    "    \n",
    "print(fruit)"
   ]
  },
  {
   "cell_type": "code",
   "execution_count": 9,
   "metadata": {},
   "outputs": [
    {
     "name": "stdout",
     "output_type": "stream",
     "text": [
      "['12', '34', '56']\n"
     ]
    }
   ],
   "source": [
    "# 3\n",
    "num = ['12', '34', '56']\n",
    "for i in num:\n",
    "    i = int(i)\n",
    "print(num)"
   ]
  },
  {
   "cell_type": "code",
   "execution_count": 10,
   "metadata": {},
   "outputs": [
    {
     "name": "stdout",
     "output_type": "stream",
     "text": [
      "[3, 4.0]\n"
     ]
    }
   ],
   "source": [
    "# 4\n",
    "number = [\"1\", 2, 3, float(4), str(5)]\n",
    "if number[4] == 5:\n",
    "    print(type(number[0]))\n",
    "elif number[3] == 4:\n",
    "    print(number[2 : -1])"
   ]
  },
  {
   "cell_type": "code",
   "execution_count": 11,
   "metadata": {},
   "outputs": [
    {
     "name": "stdout",
     "output_type": "stream",
     "text": [
      "5\n"
     ]
    }
   ],
   "source": [
    "# 5\n",
    "num = 0\n",
    "i = 1\n",
    "\n",
    "while i < 8:\n",
    "    if i % 3 == 0:\n",
    "        break\n",
    "    i += 1\n",
    "    num += i\n",
    "print(num)"
   ]
  },
  {
   "cell_type": "code",
   "execution_count": 12,
   "metadata": {},
   "outputs": [
    {
     "name": "stdout",
     "output_type": "stream",
     "text": [
      "-5\n"
     ]
    }
   ],
   "source": [
    "# 6\n",
    "result = 0\n",
    "for i in range(5, -5, -2):\n",
    "    if i < -3:\n",
    "        result += 1\n",
    "    else:\n",
    "        result -= 1\n",
    "        \n",
    "print(result)"
   ]
  },
  {
   "cell_type": "code",
   "execution_count": 13,
   "metadata": {},
   "outputs": [
    {
     "name": "stdout",
     "output_type": "stream",
     "text": [
      "apple\n"
     ]
    }
   ],
   "source": [
    "# 7\n",
    "fruit = 'apple'\n",
    "if fruit == 'Apple':\n",
    "    fruit = 'Apple'\n",
    "elif fruit == 'fruit':\n",
    "    fruit = 'fruit'\n",
    "else:\n",
    "    fruit = fruit\n",
    "print(fruit)"
   ]
  },
  {
   "cell_type": "code",
   "execution_count": 16,
   "metadata": {},
   "outputs": [
    {
     "name": "stdout",
     "output_type": "stream",
     "text": [
      "0\n"
     ]
    }
   ],
   "source": [
    "# 8\n",
    "first_value = 0\n",
    "second_value = 0\n",
    "for i in range(1, 10):\n",
    "    if i is 5:\n",
    "        continue\n",
    "        first_value= i\n",
    "    if i is 10:\n",
    "        break\n",
    "        second_value = i\n",
    "        \n",
    "print(first_value + second_value)"
   ]
  },
  {
   "cell_type": "code",
   "execution_count": 17,
   "metadata": {},
   "outputs": [
    {
     "name": "stdout",
     "output_type": "stream",
     "text": [
      "986531\n"
     ]
    }
   ],
   "source": [
    "# 9\n",
    "num = \"\"\n",
    "for i in range(10):\n",
    "    if i <= 5 and (i % 2) == 0:\n",
    "        continue\n",
    "    elif i is 7 or i is 10:\n",
    "        continue\n",
    "    else:\n",
    "        num = str(i) + num\n",
    "\n",
    "print(num)"
   ]
  },
  {
   "cell_type": "code",
   "execution_count": 19,
   "metadata": {},
   "outputs": [
    {
     "name": "stdout",
     "output_type": "stream",
     "text": [
      "Hire more workers\n",
      "Hire more workers\n"
     ]
    }
   ],
   "source": [
    "# 10\n",
    "def work_status(task, worker, day):\n",
    "    rest_task = task\n",
    "    for k in range(day):\n",
    "        if rest_task > 0:\n",
    "            rest_task = rest_task - worker\n",
    "        elif rest_task <= 0:\n",
    "            print(\"Task end\")\n",
    "    if rest_task > 0:\n",
    "        print(\"Hire more workers\")\n",
    "\n",
    "work_status(100, 11, 10)\n",
    "work_status(100, 1, 10)\n",
    "work_status(100, 9, 10)\n",
    "work_status(100, 10, 10)"
   ]
  },
  {
   "cell_type": "code",
   "execution_count": 20,
   "metadata": {},
   "outputs": [
    {
     "name": "stdout",
     "output_type": "stream",
     "text": [
      "45\n"
     ]
    }
   ],
   "source": [
    "# 11\n",
    "score_list = [5, 10, 15, 20, 25, 30]\n",
    "\n",
    "sum_of_score = 0\n",
    "i = 0\n",
    "\n",
    "while i < len(score_list):\n",
    "    if i % 2 == 0:\n",
    "        sum_of_score += score_list[i]\n",
    "    i += 1\n",
    "    \n",
    "print(sum_of_score)"
   ]
  },
  {
   "cell_type": "code",
   "execution_count": 21,
   "metadata": {},
   "outputs": [
    {
     "name": "stdout",
     "output_type": "stream",
     "text": [
      "2600\n"
     ]
    }
   ],
   "source": [
    "# 12\n",
    "coupon = 0\n",
    "money = 200000\n",
    "coffee = 3500\n",
    "while money > coffee:\n",
    "    if coupon < 4:\n",
    "        money = money - coffee\n",
    "        coupon += 1\n",
    "    else:\n",
    "        money += 2800\n",
    "        coupon = 0\n",
    "\n",
    "print(money)"
   ]
  },
  {
   "cell_type": "code",
   "execution_count": 41,
   "metadata": {},
   "outputs": [
    {
     "name": "stdout",
     "output_type": "stream",
     "text": [
      "Strike : 0 Ball : 3\n"
     ]
    }
   ],
   "source": [
    "# 13\n",
    "a = \"369\"\n",
    "b = \"693\"\n",
    "\n",
    "strike = 0\n",
    "ball = 0\n",
    "\n",
    "for number in a:\n",
    "    if b.count(number) >= 1:\n",
    "        if b.find(number) == a.find(number):\n",
    "            strike += 1\n",
    "        else:\n",
    "            ball += 1\n",
    "            \n",
    "print(\"Strike :\", strike, \"Ball :\", ball)"
   ]
  },
  {
   "cell_type": "code",
   "execution_count": 22,
   "metadata": {},
   "outputs": [
    {
     "name": "stdout",
     "output_type": "stream",
     "text": [
      "6\n"
     ]
    }
   ],
   "source": [
    "# 14\n",
    "list_data_a = [1, 2]\n",
    "list_data_b = [3, 4]\n",
    "\n",
    "for i in list_data_a:\n",
    "    for j in list_data_b:\n",
    "        result = i + j\n",
    "        \n",
    "print(result)"
   ]
  },
  {
   "cell_type": "code",
   "execution_count": 23,
   "metadata": {},
   "outputs": [
    {
     "name": "stdout",
     "output_type": "stream",
     "text": [
      "[1, 2, 3, 4, 5, 6]\n"
     ]
    }
   ],
   "source": [
    "# 15\n",
    "list_1 = [[1, 2], [3], [4, 5, 6]]\n",
    "a, b, c, = list_1\n",
    "list_2 = a + b + c\n",
    "\n",
    "print(list_2)"
   ]
  }
 ],
 "metadata": {
  "kernelspec": {
   "display_name": "TensorFlow",
   "language": "python",
   "name": "tensorflow"
  },
  "language_info": {
   "codemirror_mode": {
    "name": "ipython",
    "version": 3
   },
   "file_extension": ".py",
   "mimetype": "text/x-python",
   "name": "python",
   "nbconvert_exporter": "python",
   "pygments_lexer": "ipython3",
   "version": "3.5.4"
  }
 },
 "nbformat": 4,
 "nbformat_minor": 2
}
