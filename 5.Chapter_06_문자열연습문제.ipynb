{
 "cells": [
  {
   "cell_type": "code",
   "execution_count": 1,
   "metadata": {},
   "outputs": [
    {
     "name": "stdout",
     "output_type": "stream",
     "text": [
      "ab\n"
     ]
    }
   ],
   "source": [
    "# 1\n",
    "a = 11\n",
    "b = 9\n",
    "\n",
    "print('a' + 'b')"
   ]
  },
  {
   "cell_type": "code",
   "execution_count": 3,
   "metadata": {},
   "outputs": [
    {
     "name": "stdout",
     "output_type": "stream",
     "text": [
      "3 5 13\n",
      "21\n"
     ]
    }
   ],
   "source": [
    "# 2\n",
    "fact = \"Python is funny\"\n",
    "print(fact.count('n'), fact.find('n'), fact.rfind('n'))\n",
    "print(str(fact.count('n') + fact.find('n') + fact.rfind('n')))"
   ]
  },
  {
   "cell_type": "code",
   "execution_count": 6,
   "metadata": {},
   "outputs": [
    {
     "name": "stdout",
     "output_type": "stream",
     "text": [
      "Gachon Human\n"
     ]
    }
   ],
   "source": [
    "# 3\n",
    "text = 'Gachon CS50 - programming with python'\n",
    "text2 = \" Human cs50 knowledge belongs to the world \"\n",
    "\n",
    "text.lower() # 리턴값이 있으므로 담아줘야 함\n",
    "\n",
    "print(text[ : 5] + text[-1] + text[6] + text2.split()[0])"
   ]
  },
  {
   "cell_type": "code",
   "execution_count": 7,
   "metadata": {},
   "outputs": [
    {
     "name": "stdout",
     "output_type": "stream",
     "text": [
      "introduction programming with python\n"
     ]
    }
   ],
   "source": [
    "# 4\n",
    "class_name = 'introduction programming with python'\n",
    "\n",
    "for i in class_name:\n",
    "    if i == 'python':\n",
    "        i = i.upper()\n",
    "        \n",
    "print(class_name)"
   ]
  },
  {
   "cell_type": "code",
   "execution_count": 8,
   "metadata": {},
   "outputs": [
    {
     "name": "stdout",
     "output_type": "stream",
     "text": [
      "1010102\n"
     ]
    }
   ],
   "source": [
    "# 5\n",
    "a = '10'\n",
    "b = '5-2'.split('-')[1]\n",
    "\n",
    "print(a * 3 + b)"
   ]
  },
  {
   "cell_type": "code",
   "execution_count": 9,
   "metadata": {},
   "outputs": [
    {
     "name": "stdout",
     "output_type": "stream",
     "text": [
      "REMEMBER 0416\n"
     ]
    }
   ],
   "source": [
    "# 6\n",
    "name = \"Hanbit\"\n",
    "a = name.find(\"H\")\n",
    "b = name.count(\"H\") * 4\n",
    "c = len(name) * 2 + 4\n",
    "print(\"REMEMBER\", str(a) + str(b) + str(c))"
   ]
  },
  {
   "cell_type": "code",
   "execution_count": 12,
   "metadata": {},
   "outputs": [
    {
     "name": "stdout",
     "output_type": "stream",
     "text": [
      "aa\n"
     ]
    }
   ],
   "source": [
    "# 7\n",
    "a = \"abcd e f g\"\n",
    "b = a.split() # ['abcd', 'e', 'f', 'g']\n",
    "c = (a[ : 3][0]) # a\n",
    "d = (b[ : 3][0][0]) # a\n",
    "\n",
    "print(c + d)"
   ]
  },
  {
   "cell_type": "code",
   "execution_count": 15,
   "metadata": {},
   "outputs": [
    {
     "name": "stdout",
     "output_type": "stream",
     "text": [
      "I eat 10 oranges every day.\n",
      "I eat 10 oranges every three day.\n"
     ]
    }
   ],
   "source": [
    "# 8\n",
    "number = 10\n",
    "day = 3\n",
    "print(\"I eat %d oranges every day.\" % number)\n",
    "\n",
    "number = 10\n",
    "day = \"three\"\n",
    "print(\"I eat {} oranges every {} days.\".format(number, day))"
   ]
  },
  {
   "cell_type": "code",
   "execution_count": 18,
   "metadata": {},
   "outputs": [
    {
     "name": "stdout",
     "output_type": "stream",
     "text": [
      "8, 1\n"
     ]
    }
   ],
   "source": [
    "# 9\n",
    "result = \"CODE2018\"\n",
    "print(\"{0}, {1}\".format(result[-1], result[-2]))"
   ]
  },
  {
   "cell_type": "code",
   "execution_count": 19,
   "metadata": {},
   "outputs": [
    {
     "name": "stdout",
     "output_type": "stream",
     "text": [
      "This is PYTHON\n"
     ]
    }
   ],
   "source": [
    "# 10\n",
    "str_a = \"this is\"\n",
    "str_b = \"PythoN\"\n",
    "\n",
    "print(str_a.capitalize() + \" \" + str_b.upper())"
   ]
  },
  {
   "cell_type": "code",
   "execution_count": 36,
   "metadata": {},
   "outputs": [
    {
     "name": "stdout",
     "output_type": "stream",
     "text": [
      "     *\n",
      "    ***\n",
      "   *****\n",
      "  *******\n",
      " *********\n",
      "***********\n"
     ]
    }
   ],
   "source": [
    "# 12\n",
    "print(\"{0:>6s}\".format(\"*\"))\n",
    "print(\"{0:>7s}\".format(\"***\"))\n",
    "print(\"{0:>8s}\".format(\"*****\"))\n",
    "print(\"{0:>9s}\".format(\"*******\"))\n",
    "print(\"{0:>10s}\".format(\"*********\"))\n",
    "print(\"{0:>11s}\".format(\"***********\"))"
   ]
  },
  {
   "cell_type": "code",
   "execution_count": 25,
   "metadata": {},
   "outputs": [
    {
     "name": "stdout",
     "output_type": "stream",
     "text": [
      "     Apple\n"
     ]
    }
   ],
   "source": [
    "# 13\n",
    "print(\"{0:>10s}\".format(\"Apple\"))"
   ]
  }
 ],
 "metadata": {
  "kernelspec": {
   "display_name": "TensorFlow",
   "language": "python",
   "name": "tensorflow"
  },
  "language_info": {
   "codemirror_mode": {
    "name": "ipython",
    "version": 3
   },
   "file_extension": ".py",
   "mimetype": "text/x-python",
   "name": "python",
   "nbconvert_exporter": "python",
   "pygments_lexer": "ipython3",
   "version": "3.5.4"
  }
 },
 "nbformat": 4,
 "nbformat_minor": 2
}
