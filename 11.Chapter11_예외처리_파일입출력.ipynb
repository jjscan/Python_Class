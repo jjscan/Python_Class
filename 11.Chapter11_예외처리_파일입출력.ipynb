{
 "cells": [
  {
   "cell_type": "code",
   "execution_count": 2,
   "metadata": {},
   "outputs": [
    {
     "name": "stdout",
     "output_type": "stream",
     "text": [
      "변환할 정수값 입력 : 38485\n",
      "정수값으로 변환된 숫자 - 38485\n",
      "변환할 정수값 입력 : d\n"
     ]
    },
    {
     "ename": "ValueError",
     "evalue": "숫자값을 입력하지 않았습니다.",
     "output_type": "error",
     "traceback": [
      "\u001b[0;31m---------------------------------------------------------------------------\u001b[0m",
      "\u001b[0;31mValueError\u001b[0m                                Traceback (most recent call last)",
      "\u001b[0;32m<ipython-input-2-663572d778de>\u001b[0m in \u001b[0;36m<module>\u001b[0;34m()\u001b[0m\n\u001b[1;32m      4\u001b[0m     \u001b[0;32mfor\u001b[0m \u001b[0mdigit\u001b[0m \u001b[0;32min\u001b[0m \u001b[0mvalue\u001b[0m\u001b[0;34m:\u001b[0m\u001b[0;34m\u001b[0m\u001b[0m\n\u001b[1;32m      5\u001b[0m         \u001b[0;32mif\u001b[0m \u001b[0mdigit\u001b[0m \u001b[0;32mnot\u001b[0m \u001b[0;32min\u001b[0m \u001b[0;34m\"0123456789\"\u001b[0m\u001b[0;34m:\u001b[0m\u001b[0;34m\u001b[0m\u001b[0m\n\u001b[0;32m----> 6\u001b[0;31m             \u001b[0;32mraise\u001b[0m \u001b[0mValueError\u001b[0m\u001b[0;34m(\u001b[0m\u001b[0;34m\"숫자값을 입력하지 않았습니다.\"\u001b[0m\u001b[0;34m)\u001b[0m\u001b[0;34m\u001b[0m\u001b[0m\n\u001b[0m\u001b[1;32m      7\u001b[0m     \u001b[0mprint\u001b[0m\u001b[0;34m(\u001b[0m\u001b[0;34m\"정수값으로 변환된 숫자 -\"\u001b[0m\u001b[0;34m,\u001b[0m \u001b[0mint\u001b[0m\u001b[0;34m(\u001b[0m\u001b[0mvalue\u001b[0m\u001b[0;34m)\u001b[0m\u001b[0;34m)\u001b[0m\u001b[0;34m\u001b[0m\u001b[0m\n",
      "\u001b[0;31mValueError\u001b[0m: 숫자값을 입력하지 않았습니다."
     ]
    }
   ],
   "source": [
    "# 예외 처리 구문 : raise문\n",
    "while True:\n",
    "    value = input(\"변환할 정수값 입력 : \")\n",
    "    for digit in value:\n",
    "        if digit not in \"0123456789\":\n",
    "            raise ValueError(\"숫자값을 입력하지 않았습니다.\")\n",
    "    print(\"정수값으로 변환된 숫자 -\", int(value))"
   ]
  },
  {
   "cell_type": "code",
   "execution_count": 3,
   "metadata": {},
   "outputs": [
    {
     "name": "stdout",
     "output_type": "stream",
     "text": [
      "I have a dream a song to sing\n",
      "To help me cope with anything\n",
      "If you see the wonder of a fairy tale\n",
      "You can take the future even\n",
      "If you fail I believe in angels\n",
      "Something good in everything\n"
     ]
    }
   ],
   "source": [
    "# 파일 읽기\n",
    "f = open(\"dream.txt\", \"r\")\n",
    "contents = f.read()\n",
    "print(contents)\n",
    "f.close()"
   ]
  },
  {
   "cell_type": "code",
   "execution_count": 4,
   "metadata": {},
   "outputs": [
    {
     "name": "stdout",
     "output_type": "stream",
     "text": [
      "<class 'str'> I have a dream a song to sing\n",
      "To help me cope with anything\n",
      "If you see the wonder of a fairy tale\n",
      "You can take the future even\n",
      "If you fail I believe in angels\n",
      "Something good in everything\n"
     ]
    }
   ],
   "source": [
    "# with문과 함께 사용하기\n",
    "with open(\"dream.txt\", \"r\") as my_file:\n",
    "    contents = my_file.read()\n",
    "    print(type(contents), contents)"
   ]
  },
  {
   "cell_type": "code",
   "execution_count": 5,
   "metadata": {},
   "outputs": [
    {
     "name": "stdout",
     "output_type": "stream",
     "text": [
      "<class 'list'>\n",
      "['I have a dream a song to sing\\n', 'To help me cope with anything\\n', 'If you see the wonder of a fairy tale\\n', 'You can take the future even\\n', 'If you fail I believe in angels\\n', 'Something good in everything']\n"
     ]
    }
   ],
   "source": [
    "# 한 줄씩 읽어 리스트형으로 반환하기\n",
    "with open(\"dream.txt\", \"r\") as my_file:\n",
    "    content_list = my_file.readlines()\n",
    "    print(type(content_list))\n",
    "    print(content_list)"
   ]
  },
  {
   "cell_type": "code",
   "execution_count": 6,
   "metadata": {},
   "outputs": [
    {
     "name": "stdout",
     "output_type": "stream",
     "text": [
      "0 === I have a dream a song to sing\n",
      "1 === To help me cope with anything\n",
      "2 === If you see the wonder of a fairy tale\n",
      "3 === You can take the future even\n",
      "4 === If you fail I believe in angels\n",
      "5 === Something good in everything\n"
     ]
    }
   ],
   "source": [
    "# 실행할 때마다 한 줄씩 읽어 오기\n",
    "with open(\"dream.txt\", \"r\") as my_file:\n",
    "    i = 0\n",
    "    while 1:\n",
    "        line = my_file.readline()\n",
    "        if not line:\n",
    "            break\n",
    "        print(str(i) + \" === \" + line.replace(\"\\n\", \"\"))\n",
    "        i = i + 1"
   ]
  },
  {
   "cell_type": "code",
   "execution_count": 11,
   "metadata": {},
   "outputs": [],
   "source": [
    "# 파일 쓰기\n",
    "with open(\"count_log.txt\", \"a\", encoding = \"utf8\") as f:\n",
    "    for i in range(1, 11):\n",
    "        data = \"%d번째 줄.\\n\" % i\n",
    "        f.write(data)\n",
    "        \n",
    "    f.close()"
   ]
  },
  {
   "cell_type": "code",
   "execution_count": 12,
   "metadata": {},
   "outputs": [],
   "source": [
    "# 디렉토리 만들기\n",
    "import os\n",
    "os.mkdir(\"log\")\n",
    "\n",
    "if not os.path.isdir(\"log\"):\n",
    "    os.mkdir(\"log\")"
   ]
  },
  {
   "cell_type": "code",
   "execution_count": 15,
   "metadata": {},
   "outputs": [],
   "source": [
    "# 파일 쓰기 : 로그 파일 만들기\n",
    "import os\n",
    "\n",
    "if not os.path.isdir(\"log\"):\n",
    "    os.mkdir(\"log\")\n",
    "    \n",
    "if not os.path.exists(\"log/count_log.txt\"):\n",
    "    f = open(\"log/count_log.txt\", \"w\")\n",
    "    f.write(\"기록 시작.\\n\")\n",
    "    f.close()\n",
    "    \n",
    "with open(\"log/count_log.txt\", \"a\") as f:\n",
    "    import random, datetime\n",
    "    for i in range(1, 11):\n",
    "        stamp = str(datetime.datetime.now())\n",
    "        value = random.random() * 1000000\n",
    "        log_line = stamp + \"\\t\" + str(value) + \"값이 생성됨.\\n\"\n",
    "        f.write(log_line)"
   ]
  },
  {
   "cell_type": "code",
   "execution_count": 31,
   "metadata": {
    "scrolled": true
   },
   "outputs": [
    {
     "name": "stderr",
     "output_type": "stream",
     "text": [
      "틀렸잖아!\n",
      "틀렸잖아!\n",
      "틀렸잖아!\n",
      "틀렸잖아!\n",
      "틀렸잖아!\n",
      "틀렸잖아!\n",
      "틀렸잖아!\n",
      "틀렸잖아!\n",
      "틀렸잖아!\n",
      "틀렸잖아!\n",
      "확인해!\n",
      "확인해!\n",
      "확인해!\n",
      "확인해!\n",
      "확인해!\n",
      "확인해!\n",
      "확인해!\n",
      "확인해!\n",
      "확인해!\n",
      "확인해!\n",
      "조심해!\n",
      "조심해!\n",
      "조심해!\n",
      "조심해!\n",
      "조심해!\n",
      "조심해!\n",
      "조심해!\n",
      "조심해!\n",
      "조심해!\n",
      "조심해!\n",
      "에러 났어!\n",
      "에러 났어!\n",
      "에러 났어!\n",
      "에러 났어!\n",
      "에러 났어!\n",
      "에러 났어!\n",
      "에러 났어!\n",
      "에러 났어!\n",
      "에러 났어!\n",
      "에러 났어!\n",
      "망했다...\n",
      "망했다...\n",
      "망했다...\n",
      "망했다...\n",
      "망했다...\n",
      "망했다...\n",
      "망했다...\n",
      "망했다...\n",
      "망했다...\n",
      "망했다...\n"
     ]
    }
   ],
   "source": [
    "import logging\n",
    "\n",
    "loggers = logging.getLogger(\"main\")\n",
    "stream_handler = logging.StreamHandler()\n",
    "loggers.addHandler(stream_handler)\n",
    "\n",
    "loggers.setLevel(logging.DEBUG)\n",
    "loggers.debug(\"틀렸잖아!\")\n",
    "loggers.info(\"확인해!\")\n",
    "loggers.warning(\"조심해!\")\n",
    "loggers.error(\"에러 났어!\")\n",
    "loggers.critical(\"망했다...\")"
   ]
  },
  {
   "cell_type": "code",
   "execution_count": 32,
   "metadata": {},
   "outputs": [
    {
     "name": "stderr",
     "output_type": "stream",
     "text": [
      "--- Logging error ---\n",
      "Traceback (most recent call last):\n",
      "  File \"/Users/wonjuson/anaconda2/envs/tensorflow/lib/python3.5/logging/__init__.py\", line 986, in emit\n",
      "    msg = self.format(record)\n",
      "  File \"/Users/wonjuson/anaconda2/envs/tensorflow/lib/python3.5/logging/__init__.py\", line 836, in format\n",
      "    return fmt.format(record)\n",
      "  File \"/Users/wonjuson/anaconda2/envs/tensorflow/lib/python3.5/logging/__init__.py\", line 576, in format\n",
      "    s = self.formatMessage(record)\n",
      "  File \"/Users/wonjuson/anaconda2/envs/tensorflow/lib/python3.5/logging/__init__.py\", line 545, in formatMessage\n",
      "    return self._style.format(record)\n",
      "  File \"/Users/wonjuson/anaconda2/envs/tensorflow/lib/python3.5/logging/__init__.py\", line 389, in format\n",
      "    return self._fmt % record.__dict__\n",
      "KeyError: 'acstime'\n",
      "Call stack:\n",
      "  File \"/Users/wonjuson/anaconda2/envs/tensorflow/lib/python3.5/runpy.py\", line 193, in _run_module_as_main\n",
      "    \"__main__\", mod_spec)\n",
      "  File \"/Users/wonjuson/anaconda2/envs/tensorflow/lib/python3.5/runpy.py\", line 85, in _run_code\n",
      "    exec(code, run_globals)\n",
      "  File \"/Users/wonjuson/anaconda2/envs/tensorflow/lib/python3.5/site-packages/ipykernel_launcher.py\", line 16, in <module>\n",
      "    app.launch_new_instance()\n",
      "  File \"/Users/wonjuson/anaconda2/envs/tensorflow/lib/python3.5/site-packages/traitlets/config/application.py\", line 658, in launch_instance\n",
      "    app.start()\n",
      "  File \"/Users/wonjuson/anaconda2/envs/tensorflow/lib/python3.5/site-packages/ipykernel/kernelapp.py\", line 478, in start\n",
      "    self.io_loop.start()\n",
      "  File \"/Users/wonjuson/anaconda2/envs/tensorflow/lib/python3.5/site-packages/zmq/eventloop/ioloop.py\", line 177, in start\n",
      "    super(ZMQIOLoop, self).start()\n",
      "  File \"/Users/wonjuson/anaconda2/envs/tensorflow/lib/python3.5/site-packages/tornado/ioloop.py\", line 888, in start\n",
      "    handler_func(fd_obj, events)\n",
      "  File \"/Users/wonjuson/anaconda2/envs/tensorflow/lib/python3.5/site-packages/tornado/stack_context.py\", line 277, in null_wrapper\n",
      "    return fn(*args, **kwargs)\n",
      "  File \"/Users/wonjuson/anaconda2/envs/tensorflow/lib/python3.5/site-packages/zmq/eventloop/zmqstream.py\", line 440, in _handle_events\n",
      "    self._handle_recv()\n",
      "  File \"/Users/wonjuson/anaconda2/envs/tensorflow/lib/python3.5/site-packages/zmq/eventloop/zmqstream.py\", line 472, in _handle_recv\n",
      "    self._run_callback(callback, msg)\n",
      "  File \"/Users/wonjuson/anaconda2/envs/tensorflow/lib/python3.5/site-packages/zmq/eventloop/zmqstream.py\", line 414, in _run_callback\n",
      "    callback(*args, **kwargs)\n",
      "  File \"/Users/wonjuson/anaconda2/envs/tensorflow/lib/python3.5/site-packages/tornado/stack_context.py\", line 277, in null_wrapper\n",
      "    return fn(*args, **kwargs)\n",
      "  File \"/Users/wonjuson/anaconda2/envs/tensorflow/lib/python3.5/site-packages/ipykernel/kernelbase.py\", line 283, in dispatcher\n",
      "    return self.dispatch_shell(stream, msg)\n",
      "  File \"/Users/wonjuson/anaconda2/envs/tensorflow/lib/python3.5/site-packages/ipykernel/kernelbase.py\", line 233, in dispatch_shell\n",
      "    handler(stream, idents, msg)\n",
      "  File \"/Users/wonjuson/anaconda2/envs/tensorflow/lib/python3.5/site-packages/ipykernel/kernelbase.py\", line 399, in execute_request\n",
      "    user_expressions, allow_stdin)\n",
      "  File \"/Users/wonjuson/anaconda2/envs/tensorflow/lib/python3.5/site-packages/ipykernel/ipkernel.py\", line 208, in do_execute\n",
      "    res = shell.run_cell(code, store_history=store_history, silent=silent)\n",
      "  File \"/Users/wonjuson/anaconda2/envs/tensorflow/lib/python3.5/site-packages/ipykernel/zmqshell.py\", line 537, in run_cell\n",
      "    return super(ZMQInteractiveShell, self).run_cell(*args, **kwargs)\n",
      "  File \"/Users/wonjuson/anaconda2/envs/tensorflow/lib/python3.5/site-packages/IPython/core/interactiveshell.py\", line 2728, in run_cell\n",
      "    interactivity=interactivity, compiler=compiler, result=result)\n",
      "  File \"/Users/wonjuson/anaconda2/envs/tensorflow/lib/python3.5/site-packages/IPython/core/interactiveshell.py\", line 2850, in run_ast_nodes\n",
      "    if self.run_code(code, result):\n",
      "  File \"/Users/wonjuson/anaconda2/envs/tensorflow/lib/python3.5/site-packages/IPython/core/interactiveshell.py\", line 2910, in run_code\n",
      "    exec(code_obj, self.user_global_ns, self.user_ns)\n",
      "  File \"<ipython-input-32-c4a6c4e41645>\", line 12, in <module>\n",
      "    logger.error(\"ERROR occurred\")\n",
      "Message: 'ERROR occurred'\n",
      "Arguments: ()\n",
      "--- Logging error ---\n",
      "Traceback (most recent call last):\n",
      "  File \"/Users/wonjuson/anaconda2/envs/tensorflow/lib/python3.5/logging/__init__.py\", line 986, in emit\n",
      "    msg = self.format(record)\n",
      "  File \"/Users/wonjuson/anaconda2/envs/tensorflow/lib/python3.5/logging/__init__.py\", line 836, in format\n",
      "    return fmt.format(record)\n",
      "  File \"/Users/wonjuson/anaconda2/envs/tensorflow/lib/python3.5/logging/__init__.py\", line 576, in format\n",
      "    s = self.formatMessage(record)\n",
      "  File \"/Users/wonjuson/anaconda2/envs/tensorflow/lib/python3.5/logging/__init__.py\", line 545, in formatMessage\n",
      "    return self._style.format(record)\n",
      "  File \"/Users/wonjuson/anaconda2/envs/tensorflow/lib/python3.5/logging/__init__.py\", line 389, in format\n",
      "    return self._fmt % record.__dict__\n",
      "KeyError: 'acstime'\n",
      "Call stack:\n",
      "  File \"/Users/wonjuson/anaconda2/envs/tensorflow/lib/python3.5/runpy.py\", line 193, in _run_module_as_main\n",
      "    \"__main__\", mod_spec)\n",
      "  File \"/Users/wonjuson/anaconda2/envs/tensorflow/lib/python3.5/runpy.py\", line 85, in _run_code\n",
      "    exec(code, run_globals)\n",
      "  File \"/Users/wonjuson/anaconda2/envs/tensorflow/lib/python3.5/site-packages/ipykernel_launcher.py\", line 16, in <module>\n",
      "    app.launch_new_instance()\n",
      "  File \"/Users/wonjuson/anaconda2/envs/tensorflow/lib/python3.5/site-packages/traitlets/config/application.py\", line 658, in launch_instance\n",
      "    app.start()\n",
      "  File \"/Users/wonjuson/anaconda2/envs/tensorflow/lib/python3.5/site-packages/ipykernel/kernelapp.py\", line 478, in start\n",
      "    self.io_loop.start()\n",
      "  File \"/Users/wonjuson/anaconda2/envs/tensorflow/lib/python3.5/site-packages/zmq/eventloop/ioloop.py\", line 177, in start\n",
      "    super(ZMQIOLoop, self).start()\n",
      "  File \"/Users/wonjuson/anaconda2/envs/tensorflow/lib/python3.5/site-packages/tornado/ioloop.py\", line 888, in start\n",
      "    handler_func(fd_obj, events)\n",
      "  File \"/Users/wonjuson/anaconda2/envs/tensorflow/lib/python3.5/site-packages/tornado/stack_context.py\", line 277, in null_wrapper\n",
      "    return fn(*args, **kwargs)\n",
      "  File \"/Users/wonjuson/anaconda2/envs/tensorflow/lib/python3.5/site-packages/zmq/eventloop/zmqstream.py\", line 440, in _handle_events\n",
      "    self._handle_recv()\n",
      "  File \"/Users/wonjuson/anaconda2/envs/tensorflow/lib/python3.5/site-packages/zmq/eventloop/zmqstream.py\", line 472, in _handle_recv\n",
      "    self._run_callback(callback, msg)\n",
      "  File \"/Users/wonjuson/anaconda2/envs/tensorflow/lib/python3.5/site-packages/zmq/eventloop/zmqstream.py\", line 414, in _run_callback\n",
      "    callback(*args, **kwargs)\n",
      "  File \"/Users/wonjuson/anaconda2/envs/tensorflow/lib/python3.5/site-packages/tornado/stack_context.py\", line 277, in null_wrapper\n",
      "    return fn(*args, **kwargs)\n",
      "  File \"/Users/wonjuson/anaconda2/envs/tensorflow/lib/python3.5/site-packages/ipykernel/kernelbase.py\", line 283, in dispatcher\n",
      "    return self.dispatch_shell(stream, msg)\n",
      "  File \"/Users/wonjuson/anaconda2/envs/tensorflow/lib/python3.5/site-packages/ipykernel/kernelbase.py\", line 233, in dispatch_shell\n",
      "    handler(stream, idents, msg)\n",
      "  File \"/Users/wonjuson/anaconda2/envs/tensorflow/lib/python3.5/site-packages/ipykernel/kernelbase.py\", line 399, in execute_request\n",
      "    user_expressions, allow_stdin)\n",
      "  File \"/Users/wonjuson/anaconda2/envs/tensorflow/lib/python3.5/site-packages/ipykernel/ipkernel.py\", line 208, in do_execute\n",
      "    res = shell.run_cell(code, store_history=store_history, silent=silent)\n",
      "  File \"/Users/wonjuson/anaconda2/envs/tensorflow/lib/python3.5/site-packages/ipykernel/zmqshell.py\", line 537, in run_cell\n",
      "    return super(ZMQInteractiveShell, self).run_cell(*args, **kwargs)\n",
      "  File \"/Users/wonjuson/anaconda2/envs/tensorflow/lib/python3.5/site-packages/IPython/core/interactiveshell.py\", line 2728, in run_cell\n",
      "    interactivity=interactivity, compiler=compiler, result=result)\n",
      "  File \"/Users/wonjuson/anaconda2/envs/tensorflow/lib/python3.5/site-packages/IPython/core/interactiveshell.py\", line 2850, in run_ast_nodes\n",
      "    if self.run_code(code, result):\n",
      "  File \"/Users/wonjuson/anaconda2/envs/tensorflow/lib/python3.5/site-packages/IPython/core/interactiveshell.py\", line 2910, in run_code\n",
      "    exec(code_obj, self.user_global_ns, self.user_ns)\n",
      "  File \"<ipython-input-32-c4a6c4e41645>\", line 13, in <module>\n",
      "    logger.info(\"HERE WE ARE\")\n",
      "Message: 'HERE WE ARE'\n",
      "Arguments: ()\n",
      "--- Logging error ---\n",
      "Traceback (most recent call last):\n",
      "  File \"/Users/wonjuson/anaconda2/envs/tensorflow/lib/python3.5/logging/__init__.py\", line 986, in emit\n",
      "    msg = self.format(record)\n",
      "  File \"/Users/wonjuson/anaconda2/envs/tensorflow/lib/python3.5/logging/__init__.py\", line 836, in format\n",
      "    return fmt.format(record)\n",
      "  File \"/Users/wonjuson/anaconda2/envs/tensorflow/lib/python3.5/logging/__init__.py\", line 576, in format\n",
      "    s = self.formatMessage(record)\n",
      "  File \"/Users/wonjuson/anaconda2/envs/tensorflow/lib/python3.5/logging/__init__.py\", line 545, in formatMessage\n",
      "    return self._style.format(record)\n",
      "  File \"/Users/wonjuson/anaconda2/envs/tensorflow/lib/python3.5/logging/__init__.py\", line 389, in format\n",
      "    return self._fmt % record.__dict__\n",
      "KeyError: 'acstime'\n",
      "Call stack:\n",
      "  File \"/Users/wonjuson/anaconda2/envs/tensorflow/lib/python3.5/runpy.py\", line 193, in _run_module_as_main\n",
      "    \"__main__\", mod_spec)\n",
      "  File \"/Users/wonjuson/anaconda2/envs/tensorflow/lib/python3.5/runpy.py\", line 85, in _run_code\n",
      "    exec(code, run_globals)\n",
      "  File \"/Users/wonjuson/anaconda2/envs/tensorflow/lib/python3.5/site-packages/ipykernel_launcher.py\", line 16, in <module>\n",
      "    app.launch_new_instance()\n",
      "  File \"/Users/wonjuson/anaconda2/envs/tensorflow/lib/python3.5/site-packages/traitlets/config/application.py\", line 658, in launch_instance\n",
      "    app.start()\n",
      "  File \"/Users/wonjuson/anaconda2/envs/tensorflow/lib/python3.5/site-packages/ipykernel/kernelapp.py\", line 478, in start\n",
      "    self.io_loop.start()\n",
      "  File \"/Users/wonjuson/anaconda2/envs/tensorflow/lib/python3.5/site-packages/zmq/eventloop/ioloop.py\", line 177, in start\n",
      "    super(ZMQIOLoop, self).start()\n",
      "  File \"/Users/wonjuson/anaconda2/envs/tensorflow/lib/python3.5/site-packages/tornado/ioloop.py\", line 888, in start\n",
      "    handler_func(fd_obj, events)\n",
      "  File \"/Users/wonjuson/anaconda2/envs/tensorflow/lib/python3.5/site-packages/tornado/stack_context.py\", line 277, in null_wrapper\n",
      "    return fn(*args, **kwargs)\n",
      "  File \"/Users/wonjuson/anaconda2/envs/tensorflow/lib/python3.5/site-packages/zmq/eventloop/zmqstream.py\", line 440, in _handle_events\n",
      "    self._handle_recv()\n",
      "  File \"/Users/wonjuson/anaconda2/envs/tensorflow/lib/python3.5/site-packages/zmq/eventloop/zmqstream.py\", line 472, in _handle_recv\n",
      "    self._run_callback(callback, msg)\n",
      "  File \"/Users/wonjuson/anaconda2/envs/tensorflow/lib/python3.5/site-packages/zmq/eventloop/zmqstream.py\", line 414, in _run_callback\n",
      "    callback(*args, **kwargs)\n",
      "  File \"/Users/wonjuson/anaconda2/envs/tensorflow/lib/python3.5/site-packages/tornado/stack_context.py\", line 277, in null_wrapper\n",
      "    return fn(*args, **kwargs)\n",
      "  File \"/Users/wonjuson/anaconda2/envs/tensorflow/lib/python3.5/site-packages/ipykernel/kernelbase.py\", line 283, in dispatcher\n",
      "    return self.dispatch_shell(stream, msg)\n",
      "  File \"/Users/wonjuson/anaconda2/envs/tensorflow/lib/python3.5/site-packages/ipykernel/kernelbase.py\", line 233, in dispatch_shell\n",
      "    handler(stream, idents, msg)\n",
      "  File \"/Users/wonjuson/anaconda2/envs/tensorflow/lib/python3.5/site-packages/ipykernel/kernelbase.py\", line 399, in execute_request\n",
      "    user_expressions, allow_stdin)\n",
      "  File \"/Users/wonjuson/anaconda2/envs/tensorflow/lib/python3.5/site-packages/ipykernel/ipkernel.py\", line 208, in do_execute\n",
      "    res = shell.run_cell(code, store_history=store_history, silent=silent)\n",
      "  File \"/Users/wonjuson/anaconda2/envs/tensorflow/lib/python3.5/site-packages/ipykernel/zmqshell.py\", line 537, in run_cell\n",
      "    return super(ZMQInteractiveShell, self).run_cell(*args, **kwargs)\n",
      "  File \"/Users/wonjuson/anaconda2/envs/tensorflow/lib/python3.5/site-packages/IPython/core/interactiveshell.py\", line 2728, in run_cell\n",
      "    interactivity=interactivity, compiler=compiler, result=result)\n",
      "  File \"/Users/wonjuson/anaconda2/envs/tensorflow/lib/python3.5/site-packages/IPython/core/interactiveshell.py\", line 2856, in run_ast_nodes\n",
      "    if self.run_code(code, result):\n",
      "  File \"/Users/wonjuson/anaconda2/envs/tensorflow/lib/python3.5/site-packages/IPython/core/interactiveshell.py\", line 2910, in run_code\n",
      "    exec(code_obj, self.user_global_ns, self.user_ns)\n",
      "  File \"<ipython-input-32-c4a6c4e41645>\", line 14, in <module>\n",
      "    logger.info(\"TEST finished\")\n",
      "Message: 'TEST finished'\n",
      "Arguments: ()\n"
     ]
    }
   ],
   "source": [
    "import logging\n",
    "\n",
    "logger = logging.getLogger(\"myapp\")\n",
    "hdlr = logging.FileHandler(\"myapp.log\")\n",
    "\n",
    "formatter = logging.Formatter(\"%(acstime)s %(levelname)s %(process)d %(message)s\")\n",
    "\n",
    "hdlr.setFormatter(formatter)\n",
    "logger.addHandler(hdlr)\n",
    "logger.setLevel(logging.INFO)\n",
    "\n",
    "logger.error(\"ERROR occurred\")\n",
    "logger.info(\"HERE WE ARE\")\n",
    "logger.info(\"TEST finished\")"
   ]
  }
 ],
 "metadata": {
  "kernelspec": {
   "display_name": "TensorFlow",
   "language": "python",
   "name": "tensorflow"
  },
  "language_info": {
   "codemirror_mode": {
    "name": "ipython",
    "version": 3
   },
   "file_extension": ".py",
   "mimetype": "text/x-python",
   "name": "python",
   "nbconvert_exporter": "python",
   "pygments_lexer": "ipython3",
   "version": "3.5.4"
  }
 },
 "nbformat": 4,
 "nbformat_minor": 2
}
