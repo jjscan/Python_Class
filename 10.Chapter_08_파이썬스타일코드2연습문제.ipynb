{
 "cells": [
  {
   "cell_type": "code",
   "execution_count": 5,
   "metadata": {},
   "outputs": [
    {
     "name": "stdout",
     "output_type": "stream",
     "text": [
      "8\n",
      "8\n"
     ]
    }
   ],
   "source": [
    "# 1\n",
    "def f(x, y):\n",
    "    return x ** y\n",
    "print(f(2, 3))\n",
    "\n",
    "f = lambda x, y : x ** y\n",
    "print(f(2, 3))"
   ]
  },
  {
   "cell_type": "code",
   "execution_count": 7,
   "metadata": {},
   "outputs": [
    {
     "name": "stdout",
     "output_type": "stream",
     "text": [
      "[1, 4, 9, 16, 25]\n",
      "[1, 4, 9, 16, 25]\n"
     ]
    }
   ],
   "source": [
    "# 2\n",
    "ex = [1, 2, 3, 4, 5]\n",
    "print([value ** 2 for value in ex])\n",
    "\n",
    "f = lambda value : value ** 2\n",
    "print(list(map(f, ex)))"
   ]
  },
  {
   "cell_type": "code",
   "execution_count": 8,
   "metadata": {},
   "outputs": [
    {
     "name": "stdout",
     "output_type": "stream",
     "text": [
      "120\n"
     ]
    }
   ],
   "source": [
    "# 3\n",
    "from functools import reduce\n",
    "print(reduce(lambda x, y : x * y, [1, 2, 3, 4, 5]))"
   ]
  },
  {
   "cell_type": "code",
   "execution_count": 9,
   "metadata": {},
   "outputs": [
    {
     "data": {
      "text/plain": [
       "[(1, 2, 3), (4, 5, 6), (7, 8, 9)]"
      ]
     },
     "execution_count": 9,
     "metadata": {},
     "output_type": "execute_result"
    }
   ],
   "source": [
    "# 5 \n",
    "def transpose_list(two_dimensional_list):\n",
    "    return [row for row in zip(*two_dimensional_list)]\n",
    "\n",
    "transpose_list([[1, 4, 7], [2, 5, 8], [3, 6, 9]])"
   ]
  },
  {
   "cell_type": "code",
   "execution_count": 10,
   "metadata": {},
   "outputs": [
    {
     "data": {
      "text/plain": [
       "'2019-9-6'"
      ]
     },
     "execution_count": 10,
     "metadata": {},
     "output_type": "execute_result"
    }
   ],
   "source": [
    "# 6\n",
    "date_info = {'year' : \"2019\", 'month' : \"9\", 'day' : \"6\"}\n",
    "result = \"{year}-{month}-{day}\".format(**date_info)\n",
    "result"
   ]
  },
  {
   "cell_type": "code",
   "execution_count": 18,
   "metadata": {},
   "outputs": [
    {
     "data": {
      "text/plain": [
       "[5, 10, 15, 20]"
      ]
     },
     "execution_count": 18,
     "metadata": {},
     "output_type": "execute_result"
    }
   ],
   "source": [
    "# 8\n",
    "def scalar_vector_products(num, vector_list):\n",
    "    result = []\n",
    "    for vector in vector_list:\n",
    "        result.append(num * int(vector))\n",
    "        \n",
    "    return result\n",
    "\n",
    "scalar_vector_products(5, [1, 2, 3, 4])"
   ]
  },
  {
   "cell_type": "code",
   "execution_count": 47,
   "metadata": {},
   "outputs": [
    {
     "data": {
      "text/plain": [
       "[[4, 9], [7, 4]]"
      ]
     },
     "execution_count": 47,
     "metadata": {},
     "output_type": "execute_result"
    }
   ],
   "source": [
    "# 9\n",
    "def matrix_addition(*vectors):\n",
    "    result = []\n",
    "    for t in zip(*vectors):\n",
    "        temp = []\n",
    "        for row in zip(*t):\n",
    "            temp.append(sum(row))\n",
    "        result.append(temp)\n",
    "        \n",
    "    return result\n",
    "\n",
    "matrix_y = [[2, 5], [2, 1]]\n",
    "matrix_z = [[2, 4], [5, 3]]\n",
    "matrix_addition(matrix_y, matrix_z)"
   ]
  },
  {
   "cell_type": "code",
   "execution_count": 61,
   "metadata": {},
   "outputs": [
    {
     "name": "stdout",
     "output_type": "stream",
     "text": [
      "[-1, -1]\n",
      "[-13, -6]\n"
     ]
    }
   ],
   "source": [
    "# 10\n",
    "def vector_subtraction(*vectors):\n",
    "    result = []\n",
    "    for t in zip(*vectors):\n",
    "        subtract = t[0]\n",
    "        \n",
    "        for i in range(1, len(t)):\n",
    "            subtract -= t[i]\n",
    "        \n",
    "        result.append(subtract)\n",
    "        \n",
    "    return result\n",
    "\n",
    "print(vector_subtraction([1, 3], [2, 4]))\n",
    "\n",
    "print(vector_subtraction([1, 5], [10, 4], [4, 7]))"
   ]
  }
 ],
 "metadata": {
  "kernelspec": {
   "display_name": "TensorFlow",
   "language": "python",
   "name": "tensorflow"
  },
  "language_info": {
   "codemirror_mode": {
    "name": "ipython",
    "version": 3
   },
   "file_extension": ".py",
   "mimetype": "text/x-python",
   "name": "python",
   "nbconvert_exporter": "python",
   "pygments_lexer": "ipython3",
   "version": "3.5.4"
  }
 },
 "nbformat": 4,
 "nbformat_minor": 2
}
