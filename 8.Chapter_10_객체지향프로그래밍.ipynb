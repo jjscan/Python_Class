{
 "cells": [
  {
   "cell_type": "code",
   "execution_count": 4,
   "metadata": {},
   "outputs": [
    {
     "name": "stdout",
     "output_type": "stream",
     "text": [
      "현재 선수의 등번호 : 10\n",
      "선수의 등번호를 변경 : From 10 to 5\n",
      "현재 선수의 등번호 : 5\n",
      "Hello, My name is chulsu. I play in MF in center.\n"
     ]
    }
   ],
   "source": [
    "# 인스턴스 사용하기\n",
    "class SoccerPlayer(object):\n",
    "    def __init__(self, name, position, back_number):\n",
    "        self.name = name\n",
    "        self.position = position\n",
    "        self.back_number = back_number\n",
    "    \n",
    "    def change_back_number(self, new_number):\n",
    "        print(\"선수의 등번호를 변경 : From %d to %d\" % (self.back_number, new_number))\n",
    "        self.back_number = new_number\n",
    "    \n",
    "    def __str__(self):\n",
    "        return \"Hello, My name is %s. I play in %s in center.\" %(self.name, self.position)\n",
    "    \n",
    "chulsu = SoccerPlayer(\"chulsu\", \"MF\", 10)\n",
    "\n",
    "print(\"현재 선수의 등번호 :\", chulsu.back_number)\n",
    "chulsu.change_back_number(5)\n",
    "print(\"현재 선수의 등번호 :\", chulsu.back_number)\n",
    "\n",
    "print(chulsu)"
   ]
  },
  {
   "cell_type": "code",
   "execution_count": 6,
   "metadata": {},
   "outputs": [
    {
     "name": "stdout",
     "output_type": "stream",
     "text": [
      "[['Messi', 'MF', 10], ['Ramos', 'DF', 4], ['Ronaldo', 'CF', 7], ['Park', 'WF', 13], ['Buffon', 'GK', 1]]\n",
      "['Messi', 'MF', 10]\n"
     ]
    }
   ],
   "source": [
    "# 데이터\n",
    "names = [\"Messi\", \"Ramos\", \"Ronaldo\", \"Park\", \"Buffon\"]\n",
    "positions = [\"MF\", \"DF\", \"CF\", \"WF\", \"GK\"]\n",
    "numbers = [10, 4, 7, 13, 1]\n",
    "\n",
    "# 이차원 리스트\n",
    "players = [[name, position, number] \n",
    "           for name, position, number in zip(names, positions, numbers)]\n",
    "print(players)\n",
    "print(players[0])"
   ]
  }
 ],
 "metadata": {
  "kernelspec": {
   "display_name": "TensorFlow",
   "language": "python",
   "name": "tensorflow"
  },
  "language_info": {
   "codemirror_mode": {
    "name": "ipython",
    "version": 3
   },
   "file_extension": ".py",
   "mimetype": "text/x-python",
   "name": "python",
   "nbconvert_exporter": "python",
   "pygments_lexer": "ipython3",
   "version": "3.5.4"
  }
 },
 "nbformat": 4,
 "nbformat_minor": 2
}
