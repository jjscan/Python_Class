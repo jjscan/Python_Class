{
 "cells": [
  {
   "cell_type": "code",
   "execution_count": 2,
   "metadata": {},
   "outputs": [
    {
     "name": "stdout",
     "output_type": "stream",
     "text": [
      "deque([0, 1, 2, 3, 4])\n"
     ]
    }
   ],
   "source": [
    "# deque 모듈\n",
    "from collections import deque\n",
    "\n",
    "deque_list = deque()\n",
    "for i in range(5):\n",
    "    deque_list.append(i)\n",
    "    \n",
    "print(deque_list)"
   ]
  },
  {
   "cell_type": "code",
   "execution_count": 24,
   "metadata": {
    "scrolled": true
   },
   "outputs": [
    {
     "name": "stdout",
     "output_type": "stream",
     "text": [
      "l 500\n",
      "x 100\n",
      "y 200\n",
      "z 300\n"
     ]
    }
   ],
   "source": [
    "# OrderedDict 모듈\n",
    "def sort_by_key(t):\n",
    "    return t[0]\n",
    "\n",
    "from collections import OrderedDict\n",
    "\n",
    "d = dict()\n",
    "d[\"x\"] = 100\n",
    "d[\"y\"] = 200\n",
    "d[\"z\"] = 300\n",
    "d[\"l\"] = 500\n",
    "\n",
    "for k, v in OrderedDict(sorted(d.items(), key = sort_by_key)).items():\n",
    "    print(k, v)"
   ]
  },
  {
   "cell_type": "code",
   "execution_count": 17,
   "metadata": {},
   "outputs": [
    {
     "name": "stdout",
     "output_type": "stream",
     "text": [
      "dict_items([('blue', [2, 4]), ('yellow', [1, 3]), ('red', [1])])\n"
     ]
    },
    {
     "data": {
      "text/plain": [
       "[('blue', [2, 4]), ('red', [1]), ('yellow', [1, 3])]"
      ]
     },
     "execution_count": 17,
     "metadata": {},
     "output_type": "execute_result"
    }
   ],
   "source": [
    "# defaultdict 모듈\n",
    "from collections import defaultdict\n",
    "\n",
    "s = [(\"yellow\", 1), (\"blue\", 2), (\"yellow\", 3), (\"blue\", 4), (\"red\", 1)]\n",
    "d = defaultdict(list)\n",
    "\n",
    "for k, v in s:\n",
    "    d[k].append(v)\n",
    "    \n",
    "print(d.items())\n",
    "[('blue', [2, 4]), ('red', [1]), ('yellow', [1, 3])]"
   ]
  },
  {
   "cell_type": "code",
   "execution_count": 23,
   "metadata": {},
   "outputs": [
    {
     "name": "stdout",
     "output_type": "stream",
     "text": [
      "and 3\n",
      "to 3\n",
      "a 2\n",
      "release 2\n",
      "can 2\n",
      "you 2\n",
      "press 2\n",
      "the 1\n",
      "way 1\n",
      "mean 1\n",
      "publicity. 1\n",
      "quickest 1\n",
      "its 1\n",
      "free 1\n",
      "firm 1\n",
      "published 1\n",
      "products. 1\n",
      "easiest 1\n",
      "contacting 1\n",
      "prospects 1\n",
      "new 1\n",
      "if 1\n",
      "multiple 1\n",
      "your 1\n",
      "them. 1\n",
      "that 1\n",
      "asking 1\n",
      "get 1\n",
      "articles 1\n",
      "is 1\n",
      "in 1\n",
      "result 1\n",
      "about 1\n",
      "sell 1\n",
      "written, 1\n",
      "well 1\n"
     ]
    }
   ],
   "source": [
    "# 텍스트 마이닝 프로그램\n",
    "sentence = \"A press release is the quickest and easiest way to get free publicity. If well \\\n",
    "            written, a press release can result in multiple published articles about your \\\n",
    "            firm and its products. And that can mean new prospects contacting you asking \\\n",
    "            you to sell to them.\".lower().split()\n",
    "\n",
    "from collections import defaultdict, OrderedDict\n",
    "\n",
    "word_count = defaultdict(lambda: 0)\n",
    "for word in sentence:\n",
    "    word_count[word] += 1\n",
    "    \n",
    "for i, v in OrderedDict(sorted(word_count.items(), key = lambda t: t[1],\n",
    "                              reverse = True)).items():\n",
    "    print(i, v)"
   ]
  },
  {
   "cell_type": "code",
   "execution_count": 5,
   "metadata": {},
   "outputs": [
    {
     "name": "stdout",
     "output_type": "stream",
     "text": [
      "243\n",
      "3\n",
      "1\n"
     ]
    },
    {
     "data": {
      "text/plain": [
       "dict"
      ]
     },
     "execution_count": 5,
     "metadata": {},
     "output_type": "execute_result"
    }
   ],
   "source": [
    "# 1\n",
    "print(3 ** 5)\n",
    "\n",
    "print(15 % 4)\n",
    "\n",
    "a = 4\n",
    "a -= 3\n",
    "print(a)\n",
    "\n",
    "a = {'prof. choi' : 'The best'}\n",
    "type(a)"
   ]
  },
  {
   "cell_type": "code",
   "execution_count": 36,
   "metadata": {},
   "outputs": [
    {
     "data": {
      "text/plain": [
       "[1, 3, 4, 5]"
      ]
     },
     "execution_count": 36,
     "metadata": {},
     "output_type": "execute_result"
    }
   ],
   "source": [
    "# 2\n",
    "list_1 = [0, 3, 1, 7, 5, 0, 5, 8, 0, 4]\n",
    "# set(list_1) {0, 1, 3, 4, 5, 7, 8}\n",
    "def quiz_2(list_data):\n",
    "    a = set(list_data)\n",
    "    return (list(a)[1 : 5])\n",
    "\n",
    "quiz_2(list_1)"
   ]
  },
  {
   "cell_type": "code",
   "execution_count": 6,
   "metadata": {},
   "outputs": [
    {
     "name": "stdout",
     "output_type": "stream",
     "text": [
      "dict_values([1, 81, 86, 82])\n",
      "{'American': 1, 'Japan': 81, 'China': 86, 'Korea': 82}\n",
      "dict_keys(['American', 'Japan', 'China', 'Korea'])\n",
      "False\n",
      "True\n"
     ]
    }
   ],
   "source": [
    "# 4\n",
    "country_code = {\"American\" : 1, \"Korea\" : 82, \n",
    "                \"China\" : 86, \"Japan\" : 81}\n",
    "print(country_code.values())\n",
    "print(country_code)\n",
    "print(country_code.keys())\n",
    "print(85 in country_code.values())\n",
    "print(\"Korea\" in country_code.keys())"
   ]
  },
  {
   "cell_type": "code",
   "execution_count": 11,
   "metadata": {},
   "outputs": [
    {
     "ename": "TypeError",
     "evalue": "Can't convert 'int' object to str implicitly",
     "output_type": "error",
     "traceback": [
      "\u001b[0;31m---------------------------------------------------------------------------\u001b[0m",
      "\u001b[0;31mTypeError\u001b[0m                                 Traceback (most recent call last)",
      "\u001b[0;32m<ipython-input-11-4f9d4934f897>\u001b[0m in \u001b[0;36m<module>\u001b[0;34m()\u001b[0m\n\u001b[1;32m      4\u001b[0m \u001b[0mmidterm_set\u001b[0m \u001b[0;34m=\u001b[0m \u001b[0mset\u001b[0m\u001b[0;34m(\u001b[0m\u001b[0;34m[\u001b[0m\u001b[0;36m1\u001b[0m\u001b[0;34m,\u001b[0m \u001b[0;36m5\u001b[0m\u001b[0;34m,\u001b[0m \u001b[0;36m7\u001b[0m\u001b[0;34m,\u001b[0m \u001b[0;36m4\u001b[0m\u001b[0;34m,\u001b[0m \u001b[0;36m3\u001b[0m\u001b[0;34m,\u001b[0m \u001b[0;36m2\u001b[0m\u001b[0;34m,\u001b[0m \u001b[0;36m1\u001b[0m\u001b[0;34m,\u001b[0m \u001b[0;36m1\u001b[0m\u001b[0;34m,\u001b[0m \u001b[0;36m2\u001b[0m\u001b[0;34m,\u001b[0m \u001b[0;36m3\u001b[0m\u001b[0;34m]\u001b[0m\u001b[0;34m)\u001b[0m\u001b[0;34m\u001b[0m\u001b[0m\n\u001b[1;32m      5\u001b[0m \u001b[0;32mfor\u001b[0m \u001b[0mi\u001b[0m \u001b[0;32min\u001b[0m \u001b[0mmidterm_set\u001b[0m\u001b[0;34m:\u001b[0m\u001b[0;34m\u001b[0m\u001b[0m\n\u001b[0;32m----> 6\u001b[0;31m     \u001b[0ma\u001b[0m \u001b[0;34m=\u001b[0m \u001b[0ma\u001b[0m \u001b[0;34m+\u001b[0m \u001b[0mi\u001b[0m\u001b[0;34m\u001b[0m\u001b[0m\n\u001b[0m\u001b[1;32m      7\u001b[0m \u001b[0;34m\u001b[0m\u001b[0m\n\u001b[1;32m      8\u001b[0m \u001b[0mprint\u001b[0m\u001b[0;34m(\u001b[0m\u001b[0ma\u001b[0m\u001b[0;34m)\u001b[0m\u001b[0;34m\u001b[0m\u001b[0m\n",
      "\u001b[0;31mTypeError\u001b[0m: Can't convert 'int' object to str implicitly"
     ]
    }
   ],
   "source": [
    "# 5\n",
    "a = \"\"\n",
    "# a = 0\n",
    "midterm_set = set([1, 5, 7, 4, 3, 2, 1, 1, 2, 3])\n",
    "for i in midterm_set:\n",
    "    a = a + i\n",
    "    \n",
    "print(a)"
   ]
  },
  {
   "cell_type": "code",
   "execution_count": 39,
   "metadata": {},
   "outputs": [
    {
     "name": "stdout",
     "output_type": "stream",
     "text": [
      "False\n"
     ]
    }
   ],
   "source": [
    "# 6\n",
    "def delete_a_list_element(list_data, element_value):\n",
    "    if element_value in list_data:\n",
    "        list_data.remove(element_value)\n",
    "        return list_data\n",
    "    else:\n",
    "        return \"False\"\n",
    "    \n",
    "list_data = ['a', 1, 'gachon', '2016.0']\n",
    "element = float(2016)\n",
    "result = delete_a_list_element(list_data, element)\n",
    "print(result)"
   ]
  },
  {
   "cell_type": "code",
   "execution_count": 16,
   "metadata": {},
   "outputs": [
    {
     "name": "stdout",
     "output_type": "stream",
     "text": [
      "{1, 2, 3, 4}\n"
     ]
    }
   ],
   "source": [
    "# 7\n",
    "def add_number(original_list):\n",
    "    original_list += [1]\n",
    "\n",
    "mylist = [1, 2, 3, 4]\n",
    "add_number(mylist)\n",
    "print(set(mylist))"
   ]
  },
  {
   "cell_type": "code",
   "execution_count": 18,
   "metadata": {},
   "outputs": [
    {
     "name": "stdout",
     "output_type": "stream",
     "text": [
      "2019\n"
     ]
    }
   ],
   "source": [
    "# 8\n",
    "a = [3, \"apple\", 2016, 4]\n",
    "b = a.pop(0)\n",
    "c = a.pop(1)\n",
    "\n",
    "print(b + c)"
   ]
  },
  {
   "cell_type": "code",
   "execution_count": 19,
   "metadata": {},
   "outputs": [
    {
     "name": "stdout",
     "output_type": "stream",
     "text": [
      "19\n"
     ]
    }
   ],
   "source": [
    "# 9\n",
    "def week_seven(sentence1):\n",
    "    cells = set(sentence1.replace(' ', '').lower())\n",
    "    return cells\n",
    "\n",
    "sentence_a = \"The quick brown fox jumps over the lazy dog\"\n",
    "sentence_b = \"I love you\"\n",
    "print(len(week_seven(sentence_a) - week_seven(sentence_b)))"
   ]
  },
  {
   "cell_type": "code",
   "execution_count": 20,
   "metadata": {},
   "outputs": [
    {
     "name": "stdout",
     "output_type": "stream",
     "text": [
      "[1, 2, 3, 4, 5, 6]\n"
     ]
    }
   ],
   "source": [
    "# 10\n",
    "tuple_1 = (1, 2, 3)\n",
    "tuple_2 = (4, 5, 6)\n",
    "\n",
    "def quiz_1(data_1, data_2):\n",
    "    result = []\n",
    "    \n",
    "    for i in (tuple_1 + tuple_2):\n",
    "        result.append(i)\n",
    "        \n",
    "    return (result)\n",
    "\n",
    "print(quiz_1(tuple_1, tuple_2))"
   ]
  },
  {
   "cell_type": "code",
   "execution_count": 40,
   "metadata": {},
   "outputs": [
    {
     "name": "stdout",
     "output_type": "stream",
     "text": [
      "{1: 2, 2: 4, 3: 6, 4: 8, 6: 10}\n",
      "4\n"
     ]
    }
   ],
   "source": [
    "# 11\n",
    "dict_1 = {2 : 1, 4 : 2, 6 : 3, 8 : 4, 10 : 6}\n",
    "\n",
    "dict_keys = list(dict_1.keys())\n",
    "dict_values = list(dict_1.values())\n",
    "\n",
    "dict_2 = dict()\n",
    "\n",
    "for i in range(len(dict_keys)):\n",
    "    dict_2[dict_values[i]] = dict_keys[i]\n",
    "\n",
    "# dict_2는 dict_1에서 key와 value값의 위치를 바꾼 모양\n",
    "print(dict_2[2])"
   ]
  },
  {
   "cell_type": "code",
   "execution_count": 22,
   "metadata": {},
   "outputs": [
    {
     "name": "stdout",
     "output_type": "stream",
     "text": [
      "{0: 'snake', 8: 'spider', 2: 'monkey', 'ant': 6, 4: 'ant'}\n"
     ]
    }
   ],
   "source": [
    "# 12\n",
    "animal = ['cat', 'snake', 'monkey', 'ant', 'spider']\n",
    "legs = [4, 0, 2, 4, 8]\n",
    "animal_legs_dict = {}\n",
    "\n",
    "for i in range(len(animal)):\n",
    "    animal_legs_dict[legs[i]] = animal[i]\n",
    "    \n",
    "animal_legs_dict['ant'] = 6\n",
    "print(animal_legs_dict)"
   ]
  },
  {
   "cell_type": "code",
   "execution_count": 25,
   "metadata": {},
   "outputs": [
    {
     "name": "stdout",
     "output_type": "stream",
     "text": [
      "(1, 2, 3, 1, 2, 3)\n",
      "(1, 2, 3, 1, 2, 3)\n",
      "(1, 2, 3) (1, 2, 3)\n"
     ]
    }
   ],
   "source": [
    "# 13\n",
    "t = (1, 2, 3)\n",
    "print(t + t)\n",
    "print(t * 2)\n",
    "print(t, t)"
   ]
  },
  {
   "cell_type": "code",
   "execution_count": 26,
   "metadata": {},
   "outputs": [
    {
     "name": "stdout",
     "output_type": "stream",
     "text": [
      "10\n"
     ]
    }
   ],
   "source": [
    "# 14\n",
    "Mydict = {'1' : 1, '2' : 2}\n",
    "Copy = Mydict\n",
    "Mydict['1'] = 5\n",
    "result = Mydict['1'] + Copy['1']\n",
    "\n",
    "print(result)"
   ]
  },
  {
   "cell_type": "code",
   "execution_count": 43,
   "metadata": {},
   "outputs": [
    {
     "name": "stdout",
     "output_type": "stream",
     "text": [
      "?Yoeu MLo ve\n"
     ]
    }
   ],
   "source": [
    "# 15\n",
    "sentence = list('You Love Me?')\n",
    "result = ''\n",
    "for i in range(len(sentence)):\n",
    "    if i % 3 == 0:\n",
    "        result += sentence.pop() # 맨 뒷부분\n",
    "    else:\n",
    "        result += sentence.pop(0)\n",
    "        \n",
    "print(result)"
   ]
  },
  {
   "cell_type": "code",
   "execution_count": 45,
   "metadata": {},
   "outputs": [
    {
     "name": "stdout",
     "output_type": "stream",
     "text": [
      "14\n"
     ]
    }
   ],
   "source": [
    "# 16\n",
    "number = [5, 6, 7, 8, 9, 1, 2, 3, 4]\n",
    "result = []\n",
    "\n",
    "result.append(number.pop(0))\n",
    "result.append(number.pop())\n",
    "result.append(number.pop(1))\n",
    "result.append(number.pop())\n",
    "result.append(number.pop(0))\n",
    "\n",
    "print(number[0] + result[-1])"
   ]
  },
  {
   "cell_type": "code",
   "execution_count": 29,
   "metadata": {},
   "outputs": [
    {
     "name": "stdout",
     "output_type": "stream",
     "text": [
      "[0, 1, 2, 3, 4, 5, 6, 7, 8, 9]\n"
     ]
    }
   ],
   "source": [
    "# 17\n",
    "a = list(range(10))\n",
    "a.append(a[3])\n",
    "a.pop(a[3])\n",
    "a.insert(3, a[-1])\n",
    "a.pop()\n",
    "print(a)"
   ]
  },
  {
   "cell_type": "code",
   "execution_count": 30,
   "metadata": {},
   "outputs": [
    {
     "name": "stdout",
     "output_type": "stream",
     "text": [
      "6\n"
     ]
    }
   ],
   "source": [
    "# 18\n",
    "box = [1, 'red', 3, (), [], None]\n",
    "print(len(box))"
   ]
  },
  {
   "cell_type": "code",
   "execution_count": 48,
   "metadata": {},
   "outputs": [
    {
     "name": "stdout",
     "output_type": "stream",
     "text": [
      "(1,)\n",
      "[1]\n",
      "error\n",
      "error\n",
      "a\n",
      "a\n"
     ]
    }
   ],
   "source": [
    "# 19\n",
    "data_1 = {'one' : (1, 2, 3, 4, 5, 6), 'two' : [1, 2, 3, 4, 5, 6],\n",
    "         'three' : {'four' : 4, 'five' : 5}}\n",
    "\n",
    "for k in ['one', 'two', 'three']:\n",
    "    try:\n",
    "        print(data_1[k][ : 1])\n",
    "    except:\n",
    "        print('error')\n",
    "        \n",
    "for k in ['one', 'two', 'three']:\n",
    "    try:\n",
    "        data_1[k][-1] = \"a\"\n",
    "        print(data_1[k][-1])\n",
    "    except TypeError:\n",
    "        print('error')\n",
    "# 'three' : {'four' : 4, 'five' : 5, -1 : 'a'}"
   ]
  },
  {
   "cell_type": "code",
   "execution_count": 34,
   "metadata": {},
   "outputs": [
    {
     "name": "stdout",
     "output_type": "stream",
     "text": [
      "{'A': 'Sam', 'D': 'John', 'B': 'Sarah', 'C': 'Jane'}\n"
     ]
    }
   ],
   "source": [
    "# 20\n",
    "class_category = [\"A\", \"B\", \"C\", \"D\"]\n",
    "student_category = [\"Sam\", \"Sarah\", \"Jane\", \"John\"]\n",
    "\n",
    "class_student_cate = {}\n",
    "for i in range(len(class_category)):\n",
    "    class_student_cate[class_category[i]] = student_category[i]\n",
    "\n",
    "print(class_student_cate)"
   ]
  }
 ],
 "metadata": {
  "kernelspec": {
   "display_name": "TensorFlow",
   "language": "python",
   "name": "tensorflow"
  },
  "language_info": {
   "codemirror_mode": {
    "name": "ipython",
    "version": 3
   },
   "file_extension": ".py",
   "mimetype": "text/x-python",
   "name": "python",
   "nbconvert_exporter": "python",
   "pygments_lexer": "ipython3",
   "version": "3.5.4"
  }
 },
 "nbformat": 4,
 "nbformat_minor": 2
}
