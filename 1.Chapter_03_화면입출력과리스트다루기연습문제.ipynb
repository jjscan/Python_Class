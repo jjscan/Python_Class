{
 "cells": [
  {
   "cell_type": "code",
   "execution_count": 1,
   "metadata": {},
   "outputs": [
    {
     "name": "stdout",
     "output_type": "stream",
     "text": [
      "[0, 1, 2] [0, 1]\n"
     ]
    }
   ],
   "source": [
    "# 1\n",
    "a = [0, 1, 2, 3, 4]\n",
    "print(a[ : 3], a[ : -3])"
   ]
  },
  {
   "cell_type": "code",
   "execution_count": 2,
   "metadata": {},
   "outputs": [
    {
     "name": "stdout",
     "output_type": "stream",
     "text": [
      "[4, 3, 2, 1, 0]\n"
     ]
    }
   ],
   "source": [
    "# 2\n",
    "a = [0, 1, 2, 3, 4]\n",
    "print(a[ : : -1])"
   ]
  },
  {
   "cell_type": "code",
   "execution_count": 36,
   "metadata": {},
   "outputs": [
    {
     "name": "stdout",
     "output_type": "stream",
     "text": [
      "[['egg', 'salad', 'bread'], ['lamb', 'chicken'], 'apple']\n",
      "[['egg', 'salad', 'bread'], ['lamb', 'chicken'], ['apple']]\n"
     ]
    }
   ],
   "source": [
    "# 3\n",
    "first = [\"egg\", \"salad\", \"bread\", \"soup\", \"canafe\"]\n",
    "second = [\"fish\", \"lamb\", \"pork\", \"beef\", \"chicken\"]\n",
    "third = [\"apple\", \"banana\", \"orange\", \"grape\", \"mango\"]\n",
    "\n",
    "order = [first, second, third]\n",
    "john = [order[0][ : -2], second[1 : : 3], third[0]]\n",
    "print(john)\n",
    "del john[2]\n",
    "john.extend([order[2][0 : 1]])\n",
    "print(john)"
   ]
  },
  {
   "cell_type": "code",
   "execution_count": 29,
   "metadata": {},
   "outputs": [
    {
     "name": "stdout",
     "output_type": "stream",
     "text": [
      "[1, 2, 3, 4] None\n"
     ]
    }
   ],
   "source": [
    "# 4\n",
    "list_a = [3, 2, 1, 4]\n",
    "list_b = list_a.sort() # list.sort()는 반환값이 없음 / sorted()가 정렬된 리스트 반환\n",
    "# list_b = sorted(list_a)\n",
    "print(list_a, list_b)"
   ]
  },
  {
   "cell_type": "code",
   "execution_count": 37,
   "metadata": {},
   "outputs": [
    {
     "name": "stdout",
     "output_type": "stream",
     "text": [
      "[1, 3, 3, 5, 7, 9]\n"
     ]
    }
   ],
   "source": [
    "# 5\n",
    "a = [5, 7, 3]\n",
    "b = [3, 9, 1]\n",
    "c = a + b\n",
    "c.sort()\n",
    "# c = sorted(c)\n",
    "print(c)"
   ]
  },
  {
   "cell_type": "code",
   "execution_count": 7,
   "metadata": {},
   "outputs": [
    {
     "name": "stdout",
     "output_type": "stream",
     "text": [
      "['orange', 'strawberry', 'melon'] ['banana', 'orange']\n"
     ]
    }
   ],
   "source": [
    "# 7\n",
    "fruits = [\"apple\", \"banana\", \"cherry\", \"grape\", \"orange\", \"strawberry\", \"melon\"]\n",
    "print(fruits[-3 : ], fruits[1 : : 3])"
   ]
  },
  {
   "cell_type": "code",
   "execution_count": 8,
   "metadata": {},
   "outputs": [
    {
     "name": "stdout",
     "output_type": "stream",
     "text": [
      "[1, 2, 3, 4, 1, 2, 3, 4]\n"
     ]
    }
   ],
   "source": [
    "# 8\n",
    "num = [1, 2, 3, 4]\n",
    "print(num * 2)"
   ]
  },
  {
   "cell_type": "code",
   "execution_count": 9,
   "metadata": {},
   "outputs": [
    {
     "name": "stdout",
     "output_type": "stream",
     "text": [
      "False 6\n"
     ]
    }
   ],
   "source": [
    "# 9\n",
    "a = [1, 2, 3, 5]\n",
    "b = ['a', 'b', 'c', 'd', 'e']\n",
    "\n",
    "a.append('g')\n",
    "b.append(6)\n",
    "print('g' in b, len(b))"
   ]
  },
  {
   "cell_type": "code",
   "execution_count": 10,
   "metadata": {},
   "outputs": [
    {
     "name": "stdout",
     "output_type": "stream",
     "text": [
      "['Hankook', 'is', 'academic', 'located', 'South Korea']\n"
     ]
    }
   ],
   "source": [
    "# 10\n",
    "list_a = [\"Hankook\", \"University\", \"is\", \"an\", \"academic\", \"institute\", \"located\", \"in\", \"South Korea\"]\n",
    "list_b = []\n",
    "for i in range(len(list_a)):\n",
    "    if i % 2 != 1:\n",
    "        list_b.append(list_a[i])\n",
    "print(list_b)"
   ]
  },
  {
   "cell_type": "code",
   "execution_count": 38,
   "metadata": {},
   "outputs": [
    {
     "name": "stdout",
     "output_type": "stream",
     "text": [
      "입학 년도를 입력하세요 : 2018\n",
      "<class 'int'>\n",
      "<class 'str'>\n"
     ]
    }
   ],
   "source": [
    "# 11\n",
    "admission_year = input(\"입학 년도를 입력하세요 : \")\n",
    "year = 2018\n",
    "print(type(year))\n",
    "print(type(admission_year))"
   ]
  },
  {
   "cell_type": "code",
   "execution_count": 15,
   "metadata": {},
   "outputs": [
    {
     "name": "stdout",
     "output_type": "stream",
     "text": [
      "['Korea', 'Japan', 'China', ['Seoul', [2, 3], 'Beijing']]\n"
     ]
    }
   ],
   "source": [
    "# 12\n",
    "country = [\"Korea\", \"Japan\", \"China\"]\n",
    "capital = [\"Seoul\", \"Tokyo\", \"Beijing\"]\n",
    "index = [1, 2, 3]\n",
    "country.append(capital)\n",
    "country[3][1] = index[1 : ]\n",
    "print(country)"
   ]
  },
  {
   "cell_type": "code",
   "execution_count": 17,
   "metadata": {},
   "outputs": [
    {
     "name": "stdout",
     "output_type": "stream",
     "text": [
      "['Thu', 'Fri']\n"
     ]
    }
   ],
   "source": [
    "# 13\n",
    "week1 = [\"Mon\", \"Tue\", \"Wed\"]\n",
    "week2 = [\"Thu\", \"Fri\", \"Sat\", \"Sun\"]\n",
    "week3 = [\"\"]\n",
    "print(week2[ : len(week3) + 1])"
   ]
  },
  {
   "cell_type": "code",
   "execution_count": 41,
   "metadata": {},
   "outputs": [
    {
     "name": "stdout",
     "output_type": "stream",
     "text": [
      "True\n",
      "True\n",
      "False\n"
     ]
    }
   ],
   "source": [
    "# 14\n",
    "a = 1\n",
    "b = 1\n",
    "print(a is b)\n",
    "\n",
    "a = 256\n",
    "b = 256\n",
    "print(a is b)\n",
    "\n",
    "a = 257\n",
    "b = 257\n",
    "print(a is b)"
   ]
  },
  {
   "cell_type": "code",
   "execution_count": 42,
   "metadata": {},
   "outputs": [
    {
     "name": "stdout",
     "output_type": "stream",
     "text": [
      "True\n",
      "False\n"
     ]
    }
   ],
   "source": [
    "# 15\n",
    "a = [5, 4, 3, 2, 1]\n",
    "b = a\n",
    "c = [5, 4, 3, 2, 1]\n",
    "print(a is b)\n",
    "print(a is c)"
   ]
  },
  {
   "cell_type": "code",
   "execution_count": 51,
   "metadata": {},
   "outputs": [
    {
     "name": "stdout",
     "output_type": "stream",
     "text": [
      "2\n",
      "4\n",
      "1\n",
      "[]\n",
      "[1]\n",
      "[1, 2]\n",
      "[1, 2, 3]\n"
     ]
    }
   ],
   "source": [
    "print(3 + 1 - 2)\n",
    "print(3 - 1 + 2)\n",
    "print(3 * 1 - 2)\n",
    "nums = []\n",
    "print(nums)\n",
    "for i in range(1, 4):\n",
    "    nums.append(i)\n",
    "    print(nums)"
   ]
  }
 ],
 "metadata": {
  "kernelspec": {
   "display_name": "TensorFlow",
   "language": "python",
   "name": "tensorflow"
  },
  "language_info": {
   "codemirror_mode": {
    "name": "ipython",
    "version": 3
   },
   "file_extension": ".py",
   "mimetype": "text/x-python",
   "name": "python",
   "nbconvert_exporter": "python",
   "pygments_lexer": "ipython3",
   "version": "3.5.4"
  }
 },
 "nbformat": 4,
 "nbformat_minor": 2
}
