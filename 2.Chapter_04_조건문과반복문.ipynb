{
 "cells": [
  {
   "cell_type": "code",
   "execution_count": 9,
   "metadata": {},
   "outputs": [
    {
     "name": "stdout",
     "output_type": "stream",
     "text": [
      "태어난 년도를 입력 : 1994\n",
      "나이 : 27 \n",
      "신분 : 대학생\n"
     ]
    }
   ],
   "source": [
    "year = input(\"태어난 년도를 입력 : \")\n",
    "\n",
    "age = (2020 - int(year) + 1)\n",
    "\n",
    "if age > 26 | age < 8 :\n",
    "    state = \"학생이 아닙니다.\"\n",
    "elif age >= 20 :\n",
    "    state = \"대학생\"\n",
    "elif age >= 17 :\n",
    "    state = \"고등학생\"\n",
    "elif age >= 14 :\n",
    "    state = \"중학생\"\n",
    "elif age >= 8 :\n",
    "    state = \"초등학생\"\n",
    "    \n",
    "print(\"나이 :\", age, \"\\n신분 :\", state)"
   ]
  },
  {
   "cell_type": "code",
   "execution_count": 8,
   "metadata": {},
   "outputs": [
    {
     "name": "stdout",
     "output_type": "stream",
     "text": [
      "10\n",
      "9\n",
      "8\n",
      "7\n",
      "6\n",
      "5\n",
      "4\n",
      "3\n",
      "2\n"
     ]
    }
   ],
   "source": [
    "for i in range(10, 1, -1):\n",
    "    print(i)"
   ]
  },
  {
   "cell_type": "code",
   "execution_count": 10,
   "metadata": {},
   "outputs": [
    {
     "name": "stdout",
     "output_type": "stream",
     "text": [
      "0\n",
      "1\n",
      "2\n",
      "3\n",
      "4\n",
      "5\n",
      "6\n",
      "7\n",
      "8\n",
      "9\n",
      "End of Program\n"
     ]
    }
   ],
   "source": [
    "for i in range(10):\n",
    "    print(i)\n",
    "else:\n",
    "    print(\"End of Program\")"
   ]
  },
  {
   "cell_type": "code",
   "execution_count": 15,
   "metadata": {},
   "outputs": [
    {
     "name": "stdout",
     "output_type": "stream",
     "text": [
      "구구단 몇 단을 계산할까? : 5\n",
      "\n",
      "구구단 5 단을 계산\n",
      "5 * 1 = 5\n",
      "5 * 2 = 10\n",
      "5 * 3 = 15\n",
      "5 * 4 = 20\n",
      "5 * 5 = 25\n",
      "5 * 6 = 30\n",
      "5 * 7 = 35\n",
      "5 * 8 = 40\n",
      "5 * 9 = 45\n"
     ]
    }
   ],
   "source": [
    "# 구구단 계산기\n",
    "number = input(\"구구단 몇 단을 계산할까? : \")\n",
    "\n",
    "print(\"\\n구구단\", number, \"단을 계산\")\n",
    "\n",
    "for i in range(1, 10):\n",
    "    print(number, \"*\", i, \"=\", int(number) * i)"
   ]
  },
  {
   "cell_type": "code",
   "execution_count": 16,
   "metadata": {},
   "outputs": [
    {
     "name": "stdout",
     "output_type": "stream",
     "text": [
      "uoy evol I \n"
     ]
    }
   ],
   "source": [
    "# 문자열 역순 출력\n",
    "sentence = \"I love you\"\n",
    "reverse_sentence = \" \"\n",
    "\n",
    "for char in sentence:\n",
    "    reverse_sentence = char + reverse_sentence\n",
    "\n",
    "print(reverse_sentence)"
   ]
  },
  {
   "cell_type": "code",
   "execution_count": 17,
   "metadata": {},
   "outputs": [
    {
     "name": "stdout",
     "output_type": "stream",
     "text": [
      "1010\n"
     ]
    }
   ],
   "source": [
    "# 십진수를 이진수로 변환\n",
    "decimal = 10\n",
    "result = ''\n",
    "\n",
    "while(decimal > 0):\n",
    "    remainder = decimal % 2\n",
    "    decimal = decimal // 2\n",
    "    result = str(remainder) + result\n",
    "    \n",
    "print(result)"
   ]
  },
  {
   "cell_type": "code",
   "execution_count": 22,
   "metadata": {},
   "outputs": [
    {
     "name": "stdout",
     "output_type": "stream",
     "text": [
      "십진수 입력 : 100\n",
      "144\n"
     ]
    }
   ],
   "source": [
    "# 십진수를 팔진수로 변환\n",
    "decimal = input('십진수 입력 : ')\n",
    "decimal = int(decimal)\n",
    "result = ''\n",
    "\n",
    "while(decimal > 0):\n",
    "    remainder = decimal % 8\n",
    "    decimal = decimal // 8\n",
    "    result = str(remainder) + result\n",
    "    \n",
    "print(result)"
   ]
  },
  {
   "cell_type": "code",
   "execution_count": 29,
   "metadata": {},
   "outputs": [
    {
     "name": "stdout",
     "output_type": "stream",
     "text": [
      "숫자 입력 : 50\n",
      "정답보다 큽니다. 범위 [ 1 , 50 ]\n",
      "숫자 입력 : 35\n",
      "정답보다 큽니다. 범위 [ 1 , 35 ]\n",
      "숫자 입력 : 20\n",
      "정답보다 큽니다. 범위 [ 1 , 20 ]\n",
      "숫자 입력 : 10\n",
      "정답보다 큽니다. 범위 [ 1 , 10 ]\n",
      "숫자 입력 : 5\n",
      "정답보다 작습니다. 범위 [ 5 , 10 ]\n",
      "숫자 입력 : 7\n",
      "정답보다 큽니다. 범위 [ 5 , 7 ]\n",
      "숫자 입력 : 8\n",
      "정답보다 큽니다. 범위 [ 5 , 8 ]\n",
      "숫자 입력 : 9\n",
      "정답보다 큽니다. 범위 [ 5 , 9 ]\n",
      "숫자 입력 : 6\n",
      "정답을 맞췄습니다. 랜덤 숫자는 6 입니다.\n"
     ]
    }
   ],
   "source": [
    "# 숫자 찾기 게임\n",
    "import random\n",
    "\n",
    "rand_num = random.randint(1, 100)\n",
    "min_num = 1\n",
    "max_num = 100\n",
    "\n",
    "while(True):\n",
    "    user_num = int(input(\"숫자 입력 : \"))\n",
    "    \n",
    "    if(user_num == rand_num):\n",
    "        print(\"정답을 맞췄습니다. 랜덤 숫자는\", rand_num, \"입니다.\")\n",
    "        break;\n",
    "    elif(user_num > rand_num):\n",
    "        max_num = user_num\n",
    "        print(\"정답보다 큽니다. 범위 [\", min_num, \",\", max_num, \"]\")\n",
    "    elif(user_num < rand_num):\n",
    "        min_num = user_num\n",
    "        print(\"정답보다 작습니다. 범위 [\", min_num, \",\", max_num, \"]\")\n",
    "        \n",
    "    "
   ]
  },
  {
   "cell_type": "code",
   "execution_count": 30,
   "metadata": {},
   "outputs": [
    {
     "name": "stdout",
     "output_type": "stream",
     "text": [
      "구구단 단 수 입력 : 5\n",
      "5 * 1 = 5\n",
      "5 * 2 = 10\n",
      "5 * 3 = 15\n",
      "5 * 4 = 20\n",
      "5 * 5 = 25\n",
      "5 * 6 = 30\n",
      "5 * 7 = 35\n",
      "5 * 8 = 40\n",
      "5 * 9 = 45\n",
      "구구단 단 수 입력 : 9\n",
      "9 * 1 = 9\n",
      "9 * 2 = 18\n",
      "9 * 3 = 27\n",
      "9 * 4 = 36\n",
      "9 * 5 = 45\n",
      "9 * 6 = 54\n",
      "9 * 7 = 63\n",
      "9 * 8 = 72\n",
      "9 * 9 = 81\n",
      "구구단 단 수 입력 : 0\n",
      "종료\n"
     ]
    }
   ],
   "source": [
    "# 연속적인 구구단 계산기\n",
    "while(True):\n",
    "    number = int(input(\"구구단 단 수 입력 : \"))\n",
    "    \n",
    "    if(number == 0):\n",
    "        print(\"종료\")\n",
    "        break\n",
    "    \n",
    "    for i in range(1, 10):\n",
    "        print(number, \"*\", i, \"=\", int(number) * i)\n",
    "    "
   ]
  },
  {
   "cell_type": "code",
   "execution_count": 32,
   "metadata": {},
   "outputs": [
    {
     "name": "stdout",
     "output_type": "stream",
     "text": [
      "A \n",
      "총합 점수 : 141 \n",
      "평균 :  47.0\n",
      "B \n",
      "총합 점수 : 222 \n",
      "평균 :  74.0\n",
      "C \n",
      "총합 점수 : 153 \n",
      "평균 :  51.0\n",
      "D \n",
      "총합 점수 : 180 \n",
      "평균 :  60.0\n",
      "E \n",
      "총합 점수 : 270 \n",
      "평균 :  90.0\n"
     ]
    }
   ],
   "source": [
    "# 연속적인 평균 구하기\n",
    "std_score = [[49, 43, 49], [80, 60, 82], [20, 85, 48],\n",
    "            [100, 30, 50], [80, 90, 100]]\n",
    "name = ['A', 'B', 'C', 'D', 'E']\n",
    "\n",
    "for i in range(len(std_score)):\n",
    "    sum = 0\n",
    "    \n",
    "    for j in range(3):\n",
    "        sum += std_score[i][j]\n",
    "        \n",
    "    average = round(sum / 3, 1)\n",
    "    print(name[i], \"\\n총합 점수 :\", sum, \"\\n평균 : \", average)"
   ]
  }
 ],
 "metadata": {
  "kernelspec": {
   "display_name": "TensorFlow",
   "language": "python",
   "name": "tensorflow"
  },
  "language_info": {
   "codemirror_mode": {
    "name": "ipython",
    "version": 3
   },
   "file_extension": ".py",
   "mimetype": "text/x-python",
   "name": "python",
   "nbconvert_exporter": "python",
   "pygments_lexer": "ipython3",
   "version": "3.5.4"
  }
 },
 "nbformat": 4,
 "nbformat_minor": 2
}
